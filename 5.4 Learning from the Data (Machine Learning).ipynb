{
 "cells": [
  {
   "cell_type": "markdown",
   "metadata": {},
   "source": [
    "# Learning from the data\n",
    "\n",
    "In the last notebook (5.3), we created the feature vector that we want to use to learn the conditions that lead to regulations. In this notebook, we will load the dataset, select the most promising features, normalize and scale them, and finally run a classifier on them.\n",
    "\n",
    "As the goal of the thesis is to discuss the learnability of the problem and not to acheive production-grade performance, we will use the well-known basic algorithms provided by the Python package [scikit-learn](www.scikit-learn.org). The following picture (http://scikit-learn.org/stable/tutorial/machine_learning_map/index.html) provides a \"path\" through the variety of algorithms available in the library. It should be noted that (deep) Neural Networks are not at the heart of the scikit-learn library.\n",
    "\n",
    "<img src=\"images/ml_map.png\",width=85%,height=85%>"
   ]
  },
  {
   "cell_type": "markdown",
   "metadata": {},
   "source": [
    "# 0. Imports"
   ]
  },
  {
   "cell_type": "code",
   "execution_count": 104,
   "metadata": {
    "collapsed": true
   },
   "outputs": [],
   "source": [
    "import os.path, pandas as pd \n",
    "import matplotlib as mp, matplotlib.pyplot as plt\n",
    "import numpy as np, json, random, ast\n",
    "from IPython.display import clear_output\n",
    "from pandas.io.json import json_normalize, read_json\n",
    "from datetime import datetime\n",
    "from IPython.display import HTML\n",
    "\n",
    "import sklearn as skl\n",
    "from sklearn import preprocessing\n",
    "from sklearn.model_selection import train_test_split\n",
    "from sklearn import svm\n",
    "from sklearn.metrics import classification_report\n",
    "from sklearn.model_selection import GridSearchCV \n",
    "from sklearn.svm import SVC\n",
    "from sklearn.pipeline import Pipeline\n",
    "from sklearn.metrics import classification_report\n",
    "from tempfile import mkdtemp\n",
    "from shutil import rmtree\n",
    "from sklearn.externals.joblib import Memory\n",
    "\n",
    "#Set some parameters for nicer visualizations\n",
    "pd.set_option('display.expand_frame_repr', False) #do not wrap the printout of Pandas DataFrames\n",
    "pd.set_option('display.precision', 2)\n",
    "pd.set_option('display.max_columns', 50)\n",
    "mp.rcParams['figure.figsize'] = (15, 15)\n",
    "mp.pyplot.style.use = 'fivethirtyeight'\n",
    "%matplotlib inline"
   ]
  },
  {
   "cell_type": "code",
   "execution_count": 37,
   "metadata": {
    "collapsed": true
   },
   "outputs": [],
   "source": [
    "def plot_roc(y_test, y_pred):\n",
    "    fpr, tpr, thresholds = skl.metrics.roc_curve(y_test, y_pred, pos_label=1)\n",
    "    roc_auc = skl.metrics.auc(fpr, tpr)\n",
    "    plt.figure()\n",
    "    lw = 2\n",
    "    plt.plot(fpr, tpr, color='darkorange', lw=lw, label='ROC curve (area ={0:.2f})'.format(roc_auc))\n",
    "    plt.plot([0, 1], [0, 1], color='navy', lw=lw, linestyle='--')\n",
    "    plt.xlim([0.0, 1.0])\n",
    "    plt.ylim([0.0, 1.05])\n",
    "    plt.xlabel('False Positive Rate')\n",
    "    plt.ylabel('True Positive Rate')\n",
    "    plt.title('Receiver operating characteristic for datAcron WX dataset')\n",
    "    plt.legend(loc=\"lower right\")\n",
    "    plt.show();"
   ]
  },
  {
   "cell_type": "code",
   "execution_count": 38,
   "metadata": {},
   "outputs": [
    {
     "data": {
      "text/html": [
       "<div>\n",
       "<style scoped>\n",
       "    .dataframe tbody tr th:only-of-type {\n",
       "        vertical-align: middle;\n",
       "    }\n",
       "\n",
       "    .dataframe tbody tr th {\n",
       "        vertical-align: top;\n",
       "    }\n",
       "\n",
       "    .dataframe thead th {\n",
       "        text-align: right;\n",
       "    }\n",
       "</style>\n",
       "<table border=\"1\" class=\"dataframe\">\n",
       "  <thead>\n",
       "    <tr style=\"text-align: right;\">\n",
       "      <th></th>\n",
       "      <th>icao</th>\n",
       "      <th>s</th>\n",
       "      <th>iata</th>\n",
       "      <th>wkt</th>\n",
       "      <th>geojson</th>\n",
       "      <th>sta</th>\n",
       "      <th>end</th>\n",
       "      <th>duration</th>\n",
       "      <th>rwys</th>\n",
       "      <th>humidity</th>\n",
       "      <th>dewPoint</th>\n",
       "      <th>temperature</th>\n",
       "      <th>pressure</th>\n",
       "      <th>visibility</th>\n",
       "      <th>windBearing</th>\n",
       "      <th>windSpeed</th>\n",
       "      <th>windGust</th>\n",
       "      <th>precipIntensity</th>\n",
       "      <th>precipProbability</th>\n",
       "      <th>storm</th>\n",
       "      <th>dat.cape</th>\n",
       "      <th>dat.tempk</th>\n",
       "      <th>dat.press</th>\n",
       "      <th>dat.humi</th>\n",
       "      <th>dat.precip</th>\n",
       "      <th>crosswind</th>\n",
       "      <th>cap</th>\n",
       "      <th>demand</th>\n",
       "      <th>ratio</th>\n",
       "      <th>regulated</th>\n",
       "    </tr>\n",
       "  </thead>\n",
       "  <tbody>\n",
       "    <tr>\n",
       "      <th>1785</th>\n",
       "      <td>LEAL</td>\n",
       "      <td>Place_Alicante_Elche_Airport</td>\n",
       "      <td>ALC</td>\n",
       "      <td>POINT (-0.558055579662323 38.282222747802734)</td>\n",
       "      <td>{'type': 'Point', 'coordinates': [-0.558055579...</td>\n",
       "      <td>2016-04-11 15:00:00</td>\n",
       "      <td>2016-04-11 15:59:59</td>\n",
       "      <td>00:59:59</td>\n",
       "      <td>280</td>\n",
       "      <td>0.41</td>\n",
       "      <td>7.41</td>\n",
       "      <td>21.08</td>\n",
       "      <td>1010.47</td>\n",
       "      <td>10.11</td>\n",
       "      <td>160.0</td>\n",
       "      <td>2.72</td>\n",
       "      <td>0.0</td>\n",
       "      <td>0.0</td>\n",
       "      <td>0.0</td>\n",
       "      <td>0</td>\n",
       "      <td>0.0</td>\n",
       "      <td>15.2</td>\n",
       "      <td>101601.3</td>\n",
       "      <td>69.5</td>\n",
       "      <td>0.0</td>\n",
       "      <td>2.36</td>\n",
       "      <td>34</td>\n",
       "      <td>10.0</td>\n",
       "      <td>0.29</td>\n",
       "      <td>0</td>\n",
       "    </tr>\n",
       "  </tbody>\n",
       "</table>\n",
       "</div>"
      ],
      "text/plain": [
       "      icao                             s iata                                            wkt                                            geojson                 sta                 end duration  rwys  humidity  dewPoint  temperature  pressure  visibility  windBearing  windSpeed  windGust  precipIntensity  precipProbability  storm  dat.cape  dat.tempk  dat.press  dat.humi  dat.precip  crosswind  cap  demand  ratio  regulated\n",
       "1785  LEAL  Place_Alicante_Elche_Airport  ALC  POINT (-0.558055579662323 38.282222747802734)  {'type': 'Point', 'coordinates': [-0.558055579... 2016-04-11 15:00:00 2016-04-11 15:59:59 00:59:59   280      0.41      7.41        21.08   1010.47       10.11        160.0       2.72       0.0              0.0                0.0      0       0.0       15.2   101601.3      69.5         0.0       2.36   34    10.0   0.29          0"
      ]
     },
     "execution_count": 38,
     "metadata": {},
     "output_type": "execute_result"
    }
   ],
   "source": [
    "dfmain = pd.read_csv('data/dffinal.csv', index_col=0)\n",
    "dfmain['geojson'] = dfmain['geojson'].map(ast.literal_eval) #convert string to dict\n",
    "dfmain['sta'] = pd.to_datetime(dfmain['sta'])\n",
    "dfmain['end'] = pd.to_datetime(dfmain['end'])\n",
    "dfmain['duration'] = pd.to_timedelta(dfmain['duration'])   \n",
    "dfmain.sample()"
   ]
  },
  {
   "cell_type": "markdown",
   "metadata": {},
   "source": [
    "# 1. Some preconsiderations\n",
    "\n",
    "In the last notebok (5.3) we made some basic analysis on the available wx and other parameters. Deriving from these insights, we could conclude that we are 1) dealing with an imbalanced problem, and 2) some wx parameters did not play a role for our subset of data from April 2016  for seasonal reasons (e.g. no storm data available). \n",
    "\n",
    "## a) Dealing with an imbalanced problem: Defining Evaluation Metrics\n",
    "\n",
    "In many applications (e.g. fraud detection), the minority class contains the more important or costly events. The same applies to our problem, as has been commented by CRIDA in our interview. Therefore, the estimator should have the tendency to capture as many of the critical entries as possible, even at the cost of misclassifying uncritical entries. The simple accuracy metric is not sufficient for these types of problems, because if, like in our case, the problem is imbalanced so that 94% of the entries belong to one class, a completely naive classifier that would just classify all items as belonging to the majority class, would acheive an accuracy of 94%, but would classify 100% of the minority entries wrong.   The following  definitions adapted from [Fawcett, T: An introduction to ROC analysis](http://dx.doi.org/10.1016/j.patrec.200) help to formalize the problem and select the correct scoring methods. The confusion matrix allows us to define different metrics:\n",
    "\n",
    "<img src=\"images/confusion_matrix_1.png\">\n",
    "\n",
    "We define a regulated event as belonging to the \"positive class\", the label encoded as 1 in the dataset, and a non-regulated event as belonging to the \"negative class\" with the label 0. Considering the reply from CRIDA, it is critical to catch as much of the regulated events as possible, even at the cost of having some false positives in the result set. Lets define this more exactly. Let $m$ be the total of observations. Let\n",
    "\n",
    "$$\n",
    " \\begin{align}\n",
    "accuracy &= \\frac{TP + TN}{m} \\\\\n",
    "tp \\ rate \\ (recall) &= \\frac{TP}{TP + FP} \\\\\n",
    "fp \\ rate &= \\frac{FP}{FP + TN} \n",
    "\\end{align}\n",
    " $$\n",
    "\n",
    "We can now state that for our purposes, the $tp \\ rate$ should be optimized, even at the expense of collecting some false positives. The classifiers will internally compute a class probability between 0 and 1 for each predicted outcome. For example, a certain dataset might be classified as \"0.85 probability of being not regulated\". By shifting the classification threshold away from 0.5, we can adjust the number of events that are classified as \"positive\", with the tradeoff of increasing ambiguity. If we plot $tp \\ rate$ against $fp \\ rate$ on a chart for each probability threshold, we get the so-called ROC-curve:\n",
    "\n",
    "<img src=\"images/roccurve.png\" width=30%,height=30%>\n",
    "\n",
    "The goal of the ML process is to attain a high $tp \\ rate$ and a low $fp \\ rate$. Therefore, the more prononced the bend of the curve away from the luck line $f(x) = x$ is, the better the classifier. This \"bending\" can also be measured by the metric $AUC$, which stands for \"area under the curve\" and is literally the area under the ROC curve, the graph being normalized to having a total area of 1. An AUC of .5 would mean that there is no difference to guessing, and an AUC of 1 would represent the ideal classifier. The problem is _learnable_ if a definitive bend away from the luck line can be observed. We are dealing with an imbalanced dataset. To gain an initial understanding, we calculate a baseline first. This baseline represents the performance that would be acheived by a primitive classifier that classifies all entries as belonging to the majority class. \n",
    "\n",
    "\n",
    "## c) Dealing with non-relevant features\n",
    "\n",
    "Our dataset contains only April 2016. As the Iberian peninsula is subject to seasonal climate changes, we do not have all possible weather conditions in our sample dataset. For example, we do not have storm conditions or freezing precipitation in our dataset. An experiment on a larger data basis should consider these variables, for our purpos here, we will omit them.\n",
    "\n",
    "## d) Other considerations (preprocessing, hyperparameters, cross validation)\n",
    "\n",
    "The success of machine learning methods often used to be a lucky guess on which algorithms and parameters to choose. But the scikit-learn API makes it very easy to apply advanced learning methods to our model. We can perform a Grid Search on the hyperparameters so that the best hyperparameters are found for us. It is easy to implement cross-validation into the learning process. The following advanced techniques will be used:\n",
    "\n",
    "#### Data Normalization\n",
    "Feature normalization has the purpose of leveling different features into a comparable numerical dimension. While _scaling_ only levels the numerical range of the features, _normalization_ refers to a transformation that generates an input matrix where the features have 0 mean and equal variance across the observations. We will be using `sklearn` for this purpose. In `sklearn`, two different classes implement scaling and normalization, respectively: `MinMaxScaler` and `StandardScaler`. As described in the `sklearn` documentation, scaling is more common to preprocess data for Neural Nets, while normalization is being used for Support Vector Machines and alike. It should be noted that the scaling/normalization process (data transformation) should be learned from the training set, and only _applied_ to the test set. But because we are using k-fold cross validation, we would introduce errors if we would renormalize in each  fold. Therefore, the sklearn documentation advises to embed the normalization process into a `pipeline` which is an sklearn class that chains estimators together.\n",
    "\n",
    "#### Cross Validation\n",
    "\n",
    "From [Wikipedia: Cross Validation](https://en.wikipedia.org/wiki/Cross-validation_(statistics)): \"Cross-validation, sometimes called rotation estimation, is a model validation technique for assessing how the results of a statistical analysis will generalize to an independent data set.\" Cross-validation allows us to divide the training set into a training and validation set, but still learn from the complete set by performing the division several times, each time differently:\n",
    "<img src=\"images/K-fold_cross_validation_EN.jpg\"> \n",
    "\n",
    "\n",
    "#### Pipelining\n",
    "\n",
    "Pipelining is a method offered by scikit-learn that allows to bundle several data transformation steps together, with one final estimator class doing the classification/regression. This allows to call .fit() only once on the complete pipeline. \n",
    "\n",
    "#### Grid Search\n",
    "\n",
    "Having constructed a classifier with the transformation/estimation pipeline, Grid Search allows us to train the classifier iteratively, each time with slightly different hyperparemeters. At the end, Grid Search will terminate with the estimators tuned to the best parameters found during training.\n",
    "\n",
    "\n",
    "#### Oversampling for imbalanced Datasets\n",
    "\n",
    "lorem ipsum\n",
    "\n",
    "Apart from the correct analysis, different algorithmic methods are available to deal with imbalanced problems. Some examples are oversampling and undersampling. We are going to use a vanilla and an oversampled dataset to compare the results of the oversampling method. Oversampling works as follows:\n",
    "\n",
    "  $$ \\ demonstrate \\ oversampling $$"
   ]
  },
  {
   "cell_type": "markdown",
   "metadata": {},
   "source": [
    "# 2. Data Preprocessing and Baseline Definition\n",
    "\n",
    "Given the thoughts above, we select the useful features, and split the data into training and test sets (the pipelines later on will further split the training sets into cross-validation subsets). As the task is to find out if the dataset is learnable at all, the basline will be the naive classifier that always decides for the majority class. "
   ]
  },
  {
   "cell_type": "code",
   "execution_count": 39,
   "metadata": {
    "collapsed": true
   },
   "outputs": [],
   "source": [
    "# 0. Create the feature matrix and label vector as numpy-Arrays.\n",
    "X = np.array(dfmain[['humidity', 'dewPoint', 'temperature', \n",
    "                    'pressure', 'visibility', 'windSpeed', \n",
    "                    'precipIntensity', 'precipProbability', \n",
    "                    'dat.cape', 'crosswind', 'ratio']])\n",
    "y = np.array(dfmain['regulated'])\n",
    "X_train, X_test, y_train, y_test = skl.model_selection.train_test_split(X, y, test_size=0.2, random_state=42)"
   ]
  },
  {
   "cell_type": "markdown",
   "metadata": {},
   "source": [
    "The following cell calculates the baseline of a naive classifier that always selects the majority class."
   ]
  },
  {
   "cell_type": "code",
   "execution_count": 40,
   "metadata": {},
   "outputs": [
    {
     "name": "stdout",
     "output_type": "stream",
     "text": [
      "[[936   0]\n",
      " [ 72   0]]\n"
     ]
    },
    {
     "data": {
      "image/png": "[encoded data removed]",
      "text/plain": [
       "<matplotlib.figure.Figure at 0x7fab6bf1ebe0>"
      ]
     },
     "metadata": {},
     "output_type": "display_data"
    }
   ],
   "source": [
    "y_dumb = np.zeros((len(y_test), 1))\n",
    "baseline = skl.metrics.confusion_matrix(y_test, y_dumb)\n",
    "print(baseline)\n",
    "plot_roc(y_test, y_dumb)"
   ]
  },
  {
   "cell_type": "markdown",
   "metadata": {},
   "source": [
    "# 3. Training a Support Vector Classifier\n",
    "\n",
    "### How this Classifier works\n",
    "\n",
    "A support vector machine (SVM) is an algorithm that learns by fitting a hyperplane into the problem space such that this hyperplane seperates the two target classes as clearly as possible. Because it might not be possible to find such a plane, two measures are introduced:\n",
    " - an error function is introduced which is more than 0 if a specific data point is on the wrong side of the margin. The algorithm will try to minimize this margin.\n",
    " - the data might not be linearly separable in the dimensionality of the problem space. The algorithm will then project the problem into a higher-dimension space such that it becomes linearly separable. This is called Kernal trick.\n"
   ]
  },
  {
   "cell_type": "markdown",
   "metadata": {},
   "source": [
    "### Construction"
   ]
  },
  {
   "cell_type": "code",
   "execution_count": 15,
   "metadata": {
    "collapsed": true
   },
   "outputs": [],
   "source": [
    "# 1. Instantiate a normalizer. Beware to fit on train, and only tranform on test (Cross Valid will do this for us)\n",
    "normer = preprocessing.Normalizer()\n",
    "\n",
    "\n",
    "# 2. Instantiate a Linear Support Vector Classifier.\n",
    "     # For Hyperparameter tuning, we will pay special attention to class weight due to the imbalanced dataset. \n",
    "svm1 = svm.SVC(probability=True, class_weight={1: 10})\n",
    "\n",
    "\n",
    "# 3. Forge normalizer and classifier into a pipeline. Make sure the pipeline steps are memorizable during the grid search.\n",
    "cached = mkdtemp()\n",
    "memory = Memory(cachedir=cached, verbose=0)\n",
    "pipe_1 = Pipeline(steps=[('normalization', normer), ('svm', svm1)], memory=memory)\n",
    "\n",
    "\n",
    "# 4. Instantiate Cross Validation\n",
    "cv = skl.model_selection.KFold(n_splits=5, shuffle=True, random_state=42)\n",
    "\n",
    "\n",
    "# 5. Instantiate the Grid Search for Hypereparameter Tuning\n",
    "#    As the normalizer and estimators are hidden in the pipeline, we pass the grid parameters\n",
    "#    with the '_' notation as described in scikit learn documentation: http://bit.ly/2AlhUaK\n",
    "params = [ {\"svm__kernel\": [\"linear\"], \"svm__C\": [1, 10, 100, 1000]}, \n",
    "               {\"svm__kernel\": [\"rbf\"], \"svm__C\": [1, 10, 100, 1000], \"svm__gamma\": [0.001, 0.0001]} ]\n",
    "\n",
    "grd = GridSearchCV(pipe_1, params, scoring='roc_auc', cv=cv)"
   ]
  },
  {
   "cell_type": "markdown",
   "metadata": {},
   "source": [
    "### Training"
   ]
  },
  {
   "cell_type": "code",
   "execution_count": 28,
   "metadata": {
    "collapsed": true
   },
   "outputs": [
    {
     "name": "stdout",
     "output_type": "stream",
     "text": [
      "________________________________________________________________________________\n",
      "[Memory] Calling sklearn.pipeline._fit_transform_one...\n",
      "_fit_transform_one(Normalizer(copy=True, norm='l2'), None, array([[ 0.65    , ...,  0.545455],\n",
      "       ..., \n",
      "       [ 0.9     , ...,  0.      ]]), \n",
      "array([0, ..., 0]))\n",
      "________________________________________________fit_transform_one - 0.0s, 0.0min\n",
      "________________________________________________________________________________\n",
      "[Memory] Calling sklearn.pipeline._fit_transform_one...\n",
      "_fit_transform_one(Normalizer(copy=True, norm='l2'), None, array([[ 0.86    , ...,  0.888889],\n",
      "       ..., \n",
      "       [ 0.9     , ...,  0.      ]]), \n",
      "array([0, ..., 0]))\n",
      "________________________________________________fit_transform_one - 0.0s, 0.0min\n",
      "________________________________________________________________________________\n",
      "[Memory] Calling sklearn.pipeline._fit_transform_one...\n",
      "_fit_transform_one(Normalizer(copy=True, norm='l2'), None, array([[ 0.65    , ...,  0.545455],\n",
      "       ..., \n",
      "       [ 0.32    , ...,  0.294118]]), \n",
      "array([0, ..., 0]))\n",
      "________________________________________________fit_transform_one - 0.0s, 0.0min\n",
      "________________________________________________________________________________\n",
      "[Memory] Calling sklearn.pipeline._fit_transform_one...\n",
      "_fit_transform_one(Normalizer(copy=True, norm='l2'), None, array([[ 0.65    , ...,  0.545455],\n",
      "       ..., \n",
      "       [ 0.9     , ...,  0.      ]]), \n",
      "array([0, ..., 0]))\n",
      "________________________________________________fit_transform_one - 0.0s, 0.0min\n",
      "________________________________________________________________________________\n",
      "[Memory] Calling sklearn.pipeline._fit_transform_one...\n",
      "_fit_transform_one(Normalizer(copy=True, norm='l2'), None, array([[ 0.65    , ...,  0.545455],\n",
      "       ..., \n",
      "       [ 0.9     , ...,  0.      ]]), \n",
      "array([0, ..., 0]))\n",
      "________________________________________________fit_transform_one - 0.0s, 0.0min\n",
      "[Memory]    0.0s, 0.0min: Loading _fit_transform_one...\n",
      "[Memory]    0.0s, 0.0min: Loading _fit_transform_one...\n",
      "[Memory]    0.0s, 0.0min: Loading _fit_transform_one...\n",
      "[Memory]    0.0s, 0.0min: Loading _fit_transform_one...\n",
      "[Memory]    0.0s, 0.0min: Loading _fit_transform_one...\n",
      "[Memory]    0.0s, 0.0min: Loading _fit_transform_one...\n",
      "[Memory]    0.0s, 0.0min: Loading _fit_transform_one...\n",
      "[Memory]    0.0s, 0.0min: Loading _fit_transform_one...\n",
      "[Memory]    0.0s, 0.0min: Loading _fit_transform_one...\n",
      "[Memory]    0.0s, 0.0min: Loading _fit_transform_one...\n",
      "[Memory]    0.0s, 0.0min: Loading _fit_transform_one...\n",
      "[Memory]    0.0s, 0.0min: Loading _fit_transform_one...\n",
      "[Memory]    0.0s, 0.0min: Loading _fit_transform_one...\n",
      "[Memory]    0.0s, 0.0min: Loading _fit_transform_one...\n",
      "[Memory]    0.0s, 0.0min: Loading _fit_transform_one...\n",
      "[Memory]    0.0s, 0.0min: Loading _fit_transform_one...\n",
      "[Memory]    0.0s, 0.0min: Loading _fit_transform_one...\n",
      "[Memory]    0.0s, 0.0min: Loading _fit_transform_one...\n",
      "[Memory]    0.0s, 0.0min: Loading _fit_transform_one...\n",
      "[Memory]    0.0s, 0.0min: Loading _fit_transform_one...\n",
      "[Memory]    0.0s, 0.0min: Loading _fit_transform_one...\n",
      "[Memory]    0.0s, 0.0min: Loading _fit_transform_one...\n",
      "[Memory]    0.0s, 0.0min: Loading _fit_transform_one...\n",
      "[Memory]    0.0s, 0.0min: Loading _fit_transform_one...\n",
      "[Memory]    0.0s, 0.0min: Loading _fit_transform_one...\n",
      "[Memory]    0.0s, 0.0min: Loading _fit_transform_one...\n",
      "[Memory]    0.0s, 0.0min: Loading _fit_transform_one...\n",
      "[Memory]    0.0s, 0.0min: Loading _fit_transform_one...\n",
      "[Memory]    0.0s, 0.0min: Loading _fit_transform_one...\n",
      "[Memory]    0.0s, 0.0min: Loading _fit_transform_one...\n",
      "[Memory]    0.0s, 0.0min: Loading _fit_transform_one...\n",
      "[Memory]    0.0s, 0.0min: Loading _fit_transform_one...\n",
      "[Memory]    0.0s, 0.0min: Loading _fit_transform_one...\n",
      "[Memory]    0.0s, 0.0min: Loading _fit_transform_one...\n",
      "[Memory]    0.0s, 0.0min: Loading _fit_transform_one...\n",
      "[Memory]    0.0s, 0.0min: Loading _fit_transform_one...\n",
      "[Memory]    0.0s, 0.0min: Loading _fit_transform_one...\n",
      "[Memory]    0.0s, 0.0min: Loading _fit_transform_one...\n",
      "[Memory]    0.0s, 0.0min: Loading _fit_transform_one...\n",
      "[Memory]    0.0s, 0.0min: Loading _fit_transform_one...\n",
      "[Memory]    0.0s, 0.0min: Loading _fit_transform_one...\n",
      "[Memory]    0.0s, 0.0min: Loading _fit_transform_one...\n",
      "[Memory]    0.0s, 0.0min: Loading _fit_transform_one...\n",
      "[Memory]    0.0s, 0.0min: Loading _fit_transform_one...\n",
      "[Memory]    0.0s, 0.0min: Loading _fit_transform_one...\n",
      "[Memory]    0.0s, 0.0min: Loading _fit_transform_one...\n",
      "[Memory]    0.0s, 0.0min: Loading _fit_transform_one...\n",
      "[Memory]    0.0s, 0.0min: Loading _fit_transform_one...\n",
      "[Memory]    0.0s, 0.0min: Loading _fit_transform_one...\n",
      "[Memory]    0.0s, 0.0min: Loading _fit_transform_one...\n",
      "[Memory]    0.0s, 0.0min: Loading _fit_transform_one...\n",
      "[Memory]    0.0s, 0.0min: Loading _fit_transform_one...\n",
      "[Memory]    0.0s, 0.0min: Loading _fit_transform_one...\n",
      "[Memory]    0.0s, 0.0min: Loading _fit_transform_one...\n",
      "[Memory]    0.0s, 0.0min: Loading _fit_transform_one...\n",
      "________________________________________________________________________________\n",
      "[Memory] Calling sklearn.pipeline._fit_transform_one...\n",
      "_fit_transform_one(Normalizer(copy=True, norm='l2'), None, array([[ 0.65    , ...,  0.545455],\n",
      "       ..., \n",
      "       [ 0.9     , ...,  0.      ]]), \n",
      "array([0, ..., 0]))\n",
      "________________________________________________fit_transform_one - 0.0s, 0.0min\n"
     ]
    }
   ],
   "source": [
    "# fit the classifier on training set and predict on test set in one line (takes around 5 minutes):\n",
    "#y_pred = grd.fit(X_train, y_train).predict(X_test)\n",
    "y_pred = grd.fit(X_train, y_train).predict_proba(X_test)[:, 1]\n",
    "# remove the cached normalization:\n",
    "rmtree(cached)"
   ]
  },
  {
   "cell_type": "markdown",
   "metadata": {},
   "source": [
    "### Evaluation"
   ]
  },
  {
   "cell_type": "code",
   "execution_count": 29,
   "metadata": {},
   "outputs": [
    {
     "data": {
      "image/png": "[encoded data removed]",
      "text/plain": [
       "<matplotlib.figure.Figure at 0x7fab6c0d3e10>"
      ]
     },
     "metadata": {},
     "output_type": "display_data"
    },
    {
     "name": "stdout",
     "output_type": "stream",
     "text": [
      "This AUC has been achieved with the following parameters:\n",
      "{'svm__C': 1000, 'svm__kernel': 'linear'}\n",
      " \n"
     ]
    }
   ],
   "source": [
    "#confmatrix = skl.metrics.confusion_matrix(y_test, y_pred)\n",
    "plot_roc(y_test, y_pred)\n",
    "print('This AUC has been achieved with the following parameters:')\n",
    "print( grd.best_params_ )\n",
    "print(' ')\n",
    "#print('The Confusion Matrix for the default threshold is:')\n",
    "#print(confmatrix)"
   ]
  },
  {
   "cell_type": "markdown",
   "metadata": {},
   "source": [
    "This plot shows us that the problem is definitely learnable with a simple support verctor classifier. As next step, we are going to replace the SVC with an algorithm capable of online learning. "
   ]
  },
  {
   "cell_type": "markdown",
   "metadata": {},
   "source": [
    "# 4. Training an online capable SGD Classifier with partial_fit()\n",
    "\n",
    "We will now compare above results with another classifier that implements the partial_fit() method. Because of the online characteristic, the construction will be slightly different. In a preliminary step, we will use Grid Search to find parameters applicable for the data at hand. Thereafter, we enable online learning by directly passing the optimum parameters into another, online-capable pipeline.\n",
    "\n",
    "### Precosideration\n",
    "\n",
    "If we were to implement such an algorithm in production, we should assert that the preliminary step gets sample data from a complete year, so that most climate and traffic conditions are covered when initializing the classifier.\n",
    "\n",
    "### Training for Hyperparameter selection"
   ]
  },
  {
   "cell_type": "code",
   "execution_count": 58,
   "metadata": {
    "collapsed": true
   },
   "outputs": [],
   "source": [
    "# resetting  the datasets, they might have been messed up by the learner above:\n",
    "X = np.array(dfmain[['humidity', 'dewPoint', 'temperature', \n",
    "                    'pressure', 'visibility', 'windSpeed', \n",
    "                    'precipIntensity', 'precipProbability', \n",
    "                    'dat.cape', 'crosswind', 'ratio']])\n",
    "y = np.array(dfmain['regulated'])\n",
    "X_train, X_test, y_train, y_test = skl.model_selection.train_test_split(X, y, test_size=0.2, random_state=42)"
   ]
  },
  {
   "cell_type": "code",
   "execution_count": 66,
   "metadata": {
    "collapsed": true
   },
   "outputs": [],
   "source": [
    "# 1. Instantiate a scaler. Beware to fit on train, and only tranform on test\n",
    "scaler = preprocessing.StandardScaler()\n",
    "\n",
    "\n",
    "# 2. Instantiate a Stochastic Gradient Descent Classifier.\n",
    "     # For Hyperparameter tuning, we will pay special attention to class weight due to the imbalanced dataset.\n",
    "     # Using modified_huber to make probabilistics available\n",
    "sgd1 = skl.linear_model.SGDClassifier(loss='modified_huber', \n",
    "                                      random_state=42, class_weight={1: 10}, \n",
    "                                      warm_start=True, shuffle=True)\n",
    "\n",
    "\n",
    "# 3. Forge scaler and classifier into a pipeline. Make sure the pipeline steps are memorizable during the grid search.\n",
    "cached = mkdtemp()\n",
    "memory = Memory(cachedir=cached, verbose=0)\n",
    "pipe_2 = Pipeline(steps=[('scaling', scaler), ('sgd', sgd1)], memory=memory)\n",
    "\n",
    "\n",
    "# 4. Instantiate Cross Validation\n",
    "cv = skl.model_selection.KFold(n_splits=5, shuffle=True, random_state=42)\n",
    "\n",
    "\n",
    "# 5. Instantiate the Grid Search for Hypereparameter Tuning\n",
    "#    As the normalizer and estimators are hidden in the pipeline, we pass the grid parameters\n",
    "#    with the '_' notation as described in scikit learn documentation: http://bit.ly/2AlhUaK\n",
    "params = {'sgd__alpha': (0.00001, 0.000001), 'sgd__penalty': ('l1', 'l2', 'elasticnet')}\n",
    "    \n",
    "grd2 = GridSearchCV(pipe_2, params, scoring='roc_auc', cv=cv)"
   ]
  },
  {
   "cell_type": "code",
   "execution_count": 67,
   "metadata": {
    "collapsed": true
   },
   "outputs": [
    {
     "name": "stdout",
     "output_type": "stream",
     "text": [
      "________________________________________________________________________________\n",
      "[Memory] Calling sklearn.pipeline._fit_transform_one...\n",
      "_fit_transform_one(StandardScaler(copy=True, with_mean=True, with_std=True), None, array([[ 0.65    , ...,  0.545455],\n",
      "       ..., \n",
      "       [ 0.9     , ...,  0.      ]]), \n",
      "array([0, ..., 0]))\n",
      "________________________________________________fit_transform_one - 0.0s, 0.0min\n",
      "________________________________________________________________________________\n",
      "[Memory] Calling sklearn.pipeline._fit_transform_one...\n",
      "_fit_transform_one(StandardScaler(copy=True, with_mean=True, with_std=True), None, array([[ 0.86    , ...,  0.888889],\n",
      "       ..., \n",
      "       [ 0.9     , ...,  0.      ]]), \n",
      "array([0, ..., 0]))\n",
      "________________________________________________fit_transform_one - 0.0s, 0.0min\n",
      "________________________________________________________________________________\n",
      "[Memory] Calling sklearn.pipeline._fit_transform_one...\n",
      "_fit_transform_one(StandardScaler(copy=True, with_mean=True, with_std=True), None, array([[ 0.65    , ...,  0.545455],\n",
      "       ..., \n",
      "       [ 0.32    , ...,  0.294118]]), \n",
      "array([0, ..., 0]))\n",
      "________________________________________________fit_transform_one - 0.0s, 0.0min\n",
      "________________________________________________________________________________\n",
      "[Memory] Calling sklearn.pipeline._fit_transform_one...\n",
      "_fit_transform_one(StandardScaler(copy=True, with_mean=True, with_std=True), None, array([[ 0.65    , ...,  0.545455],\n",
      "       ..., \n",
      "       [ 0.9     , ...,  0.      ]]), \n",
      "array([0, ..., 0]))\n",
      "________________________________________________fit_transform_one - 0.0s, 0.0min\n",
      "________________________________________________________________________________\n",
      "[Memory] Calling sklearn.pipeline._fit_transform_one...\n",
      "_fit_transform_one(StandardScaler(copy=True, with_mean=True, with_std=True), None, array([[ 0.65    , ...,  0.545455],\n",
      "       ..., \n",
      "       [ 0.9     , ...,  0.      ]]), \n",
      "array([0, ..., 0]))\n",
      "________________________________________________fit_transform_one - 0.0s, 0.0min\n",
      "[Memory]    0.0s, 0.0min: Loading _fit_transform_one...\n",
      "[Memory]    0.0s, 0.0min: Loading _fit_transform_one...\n",
      "[Memory]    0.0s, 0.0min: Loading _fit_transform_one...\n",
      "[Memory]    0.0s, 0.0min: Loading _fit_transform_one...\n",
      "[Memory]    0.0s, 0.0min: Loading _fit_transform_one...\n",
      "[Memory]    0.0s, 0.0min: Loading _fit_transform_one...\n",
      "[Memory]    0.0s, 0.0min: Loading _fit_transform_one...\n",
      "[Memory]    0.0s, 0.0min: Loading _fit_transform_one...\n",
      "[Memory]    0.0s, 0.0min: Loading _fit_transform_one...\n",
      "[Memory]    0.0s, 0.0min: Loading _fit_transform_one...\n"
     ]
    },
    {
     "name": "stderr",
     "output_type": "stream",
     "text": [
      "/home/joerg/.conda/envs/datacron1/lib/python3.6/site-packages/sklearn/linear_model/stochastic_gradient.py:128: FutureWarning: max_iter and tol parameters have been added in <class 'sklearn.linear_model.stochastic_gradient.SGDClassifier'> in 0.19. If both are left unset, they default to max_iter=5 and tol=None. If tol is not None, max_iter defaults to max_iter=1000. From 0.21, default max_iter will be 1000, and default tol will be 1e-3.\n",
      "  \"and default tol will be 1e-3.\" % type(self), FutureWarning)\n",
      "/home/joerg/.conda/envs/datacron1/lib/python3.6/site-packages/sklearn/linear_model/stochastic_gradient.py:128: FutureWarning: max_iter and tol parameters have been added in <class 'sklearn.linear_model.stochastic_gradient.SGDClassifier'> in 0.19. If both are left unset, they default to max_iter=5 and tol=None. If tol is not None, max_iter defaults to max_iter=1000. From 0.21, default max_iter will be 1000, and default tol will be 1e-3.\n",
      "  \"and default tol will be 1e-3.\" % type(self), FutureWarning)\n",
      "/home/joerg/.conda/envs/datacron1/lib/python3.6/site-packages/sklearn/linear_model/stochastic_gradient.py:128: FutureWarning: max_iter and tol parameters have been added in <class 'sklearn.linear_model.stochastic_gradient.SGDClassifier'> in 0.19. If both are left unset, they default to max_iter=5 and tol=None. If tol is not None, max_iter defaults to max_iter=1000. From 0.21, default max_iter will be 1000, and default tol will be 1e-3.\n",
      "  \"and default tol will be 1e-3.\" % type(self), FutureWarning)\n",
      "/home/joerg/.conda/envs/datacron1/lib/python3.6/site-packages/sklearn/linear_model/stochastic_gradient.py:128: FutureWarning: max_iter and tol parameters have been added in <class 'sklearn.linear_model.stochastic_gradient.SGDClassifier'> in 0.19. If both are left unset, they default to max_iter=5 and tol=None. If tol is not None, max_iter defaults to max_iter=1000. From 0.21, default max_iter will be 1000, and default tol will be 1e-3.\n",
      "  \"and default tol will be 1e-3.\" % type(self), FutureWarning)\n",
      "/home/joerg/.conda/envs/datacron1/lib/python3.6/site-packages/sklearn/linear_model/stochastic_gradient.py:128: FutureWarning: max_iter and tol parameters have been added in <class 'sklearn.linear_model.stochastic_gradient.SGDClassifier'> in 0.19. If both are left unset, they default to max_iter=5 and tol=None. If tol is not None, max_iter defaults to max_iter=1000. From 0.21, default max_iter will be 1000, and default tol will be 1e-3.\n",
      "  \"and default tol will be 1e-3.\" % type(self), FutureWarning)\n",
      "/home/joerg/.conda/envs/datacron1/lib/python3.6/site-packages/sklearn/linear_model/stochastic_gradient.py:128: FutureWarning: max_iter and tol parameters have been added in <class 'sklearn.linear_model.stochastic_gradient.SGDClassifier'> in 0.19. If both are left unset, they default to max_iter=5 and tol=None. If tol is not None, max_iter defaults to max_iter=1000. From 0.21, default max_iter will be 1000, and default tol will be 1e-3.\n",
      "  \"and default tol will be 1e-3.\" % type(self), FutureWarning)\n",
      "/home/joerg/.conda/envs/datacron1/lib/python3.6/site-packages/sklearn/linear_model/stochastic_gradient.py:128: FutureWarning: max_iter and tol parameters have been added in <class 'sklearn.linear_model.stochastic_gradient.SGDClassifier'> in 0.19. If both are left unset, they default to max_iter=5 and tol=None. If tol is not None, max_iter defaults to max_iter=1000. From 0.21, default max_iter will be 1000, and default tol will be 1e-3.\n",
      "  \"and default tol will be 1e-3.\" % type(self), FutureWarning)\n",
      "/home/joerg/.conda/envs/datacron1/lib/python3.6/site-packages/sklearn/linear_model/stochastic_gradient.py:128: FutureWarning: max_iter and tol parameters have been added in <class 'sklearn.linear_model.stochastic_gradient.SGDClassifier'> in 0.19. If both are left unset, they default to max_iter=5 and tol=None. If tol is not None, max_iter defaults to max_iter=1000. From 0.21, default max_iter will be 1000, and default tol will be 1e-3.\n",
      "  \"and default tol will be 1e-3.\" % type(self), FutureWarning)\n",
      "/home/joerg/.conda/envs/datacron1/lib/python3.6/site-packages/sklearn/linear_model/stochastic_gradient.py:128: FutureWarning: max_iter and tol parameters have been added in <class 'sklearn.linear_model.stochastic_gradient.SGDClassifier'> in 0.19. If both are left unset, they default to max_iter=5 and tol=None. If tol is not None, max_iter defaults to max_iter=1000. From 0.21, default max_iter will be 1000, and default tol will be 1e-3.\n",
      "  \"and default tol will be 1e-3.\" % type(self), FutureWarning)\n",
      "/home/joerg/.conda/envs/datacron1/lib/python3.6/site-packages/sklearn/linear_model/stochastic_gradient.py:128: FutureWarning: max_iter and tol parameters have been added in <class 'sklearn.linear_model.stochastic_gradient.SGDClassifier'> in 0.19. If both are left unset, they default to max_iter=5 and tol=None. If tol is not None, max_iter defaults to max_iter=1000. From 0.21, default max_iter will be 1000, and default tol will be 1e-3.\n",
      "  \"and default tol will be 1e-3.\" % type(self), FutureWarning)\n",
      "/home/joerg/.conda/envs/datacron1/lib/python3.6/site-packages/sklearn/linear_model/stochastic_gradient.py:128: FutureWarning: max_iter and tol parameters have been added in <class 'sklearn.linear_model.stochastic_gradient.SGDClassifier'> in 0.19. If both are left unset, they default to max_iter=5 and tol=None. If tol is not None, max_iter defaults to max_iter=1000. From 0.21, default max_iter will be 1000, and default tol will be 1e-3.\n",
      "  \"and default tol will be 1e-3.\" % type(self), FutureWarning)\n",
      "/home/joerg/.conda/envs/datacron1/lib/python3.6/site-packages/sklearn/linear_model/stochastic_gradient.py:128: FutureWarning: max_iter and tol parameters have been added in <class 'sklearn.linear_model.stochastic_gradient.SGDClassifier'> in 0.19. If both are left unset, they default to max_iter=5 and tol=None. If tol is not None, max_iter defaults to max_iter=1000. From 0.21, default max_iter will be 1000, and default tol will be 1e-3.\n",
      "  \"and default tol will be 1e-3.\" % type(self), FutureWarning)\n",
      "/home/joerg/.conda/envs/datacron1/lib/python3.6/site-packages/sklearn/linear_model/stochastic_gradient.py:128: FutureWarning: max_iter and tol parameters have been added in <class 'sklearn.linear_model.stochastic_gradient.SGDClassifier'> in 0.19. If both are left unset, they default to max_iter=5 and tol=None. If tol is not None, max_iter defaults to max_iter=1000. From 0.21, default max_iter will be 1000, and default tol will be 1e-3.\n",
      "  \"and default tol will be 1e-3.\" % type(self), FutureWarning)\n",
      "/home/joerg/.conda/envs/datacron1/lib/python3.6/site-packages/sklearn/linear_model/stochastic_gradient.py:128: FutureWarning: max_iter and tol parameters have been added in <class 'sklearn.linear_model.stochastic_gradient.SGDClassifier'> in 0.19. If both are left unset, they default to max_iter=5 and tol=None. If tol is not None, max_iter defaults to max_iter=1000. From 0.21, default max_iter will be 1000, and default tol will be 1e-3.\n",
      "  \"and default tol will be 1e-3.\" % type(self), FutureWarning)\n",
      "/home/joerg/.conda/envs/datacron1/lib/python3.6/site-packages/sklearn/linear_model/stochastic_gradient.py:128: FutureWarning: max_iter and tol parameters have been added in <class 'sklearn.linear_model.stochastic_gradient.SGDClassifier'> in 0.19. If both are left unset, they default to max_iter=5 and tol=None. If tol is not None, max_iter defaults to max_iter=1000. From 0.21, default max_iter will be 1000, and default tol will be 1e-3.\n",
      "  \"and default tol will be 1e-3.\" % type(self), FutureWarning)\n"
     ]
    },
    {
     "name": "stdout",
     "output_type": "stream",
     "text": [
      "[Memory]    0.0s, 0.0min: Loading _fit_transform_one...\n",
      "[Memory]    0.0s, 0.0min: Loading _fit_transform_one...\n",
      "[Memory]    0.0s, 0.0min: Loading _fit_transform_one...\n",
      "[Memory]    0.0s, 0.0min: Loading _fit_transform_one...\n",
      "[Memory]    0.0s, 0.0min: Loading _fit_transform_one...\n",
      "[Memory]    0.0s, 0.0min: Loading _fit_transform_one...\n",
      "[Memory]    0.0s, 0.0min: Loading _fit_transform_one...\n",
      "[Memory]    0.0s, 0.0min: Loading _fit_transform_one...\n",
      "[Memory]    0.0s, 0.0min: Loading _fit_transform_one...\n",
      "[Memory]    0.0s, 0.0min: Loading _fit_transform_one...\n",
      "[Memory]    0.0s, 0.0min: Loading _fit_transform_one...\n",
      "[Memory]    0.0s, 0.0min: Loading _fit_transform_one...\n",
      "[Memory]    0.0s, 0.0min: Loading _fit_transform_one...\n",
      "[Memory]    0.0s, 0.0min: Loading _fit_transform_one...\n",
      "[Memory]    0.0s, 0.0min: Loading _fit_transform_one...\n",
      "________________________________________________________________________________\n",
      "[Memory] Calling sklearn.pipeline._fit_transform_one...\n",
      "_fit_transform_one(StandardScaler(copy=True, with_mean=True, with_std=True), None, array([[ 0.65    , ...,  0.545455],\n",
      "       ..., \n",
      "       [ 0.9     , ...,  0.      ]]), \n",
      "array([0, ..., 0]))\n",
      "________________________________________________fit_transform_one - 0.0s, 0.0min\n"
     ]
    },
    {
     "name": "stderr",
     "output_type": "stream",
     "text": [
      "/home/joerg/.conda/envs/datacron1/lib/python3.6/site-packages/sklearn/linear_model/stochastic_gradient.py:128: FutureWarning: max_iter and tol parameters have been added in <class 'sklearn.linear_model.stochastic_gradient.SGDClassifier'> in 0.19. If both are left unset, they default to max_iter=5 and tol=None. If tol is not None, max_iter defaults to max_iter=1000. From 0.21, default max_iter will be 1000, and default tol will be 1e-3.\n",
      "  \"and default tol will be 1e-3.\" % type(self), FutureWarning)\n",
      "/home/joerg/.conda/envs/datacron1/lib/python3.6/site-packages/sklearn/linear_model/stochastic_gradient.py:128: FutureWarning: max_iter and tol parameters have been added in <class 'sklearn.linear_model.stochastic_gradient.SGDClassifier'> in 0.19. If both are left unset, they default to max_iter=5 and tol=None. If tol is not None, max_iter defaults to max_iter=1000. From 0.21, default max_iter will be 1000, and default tol will be 1e-3.\n",
      "  \"and default tol will be 1e-3.\" % type(self), FutureWarning)\n",
      "/home/joerg/.conda/envs/datacron1/lib/python3.6/site-packages/sklearn/linear_model/stochastic_gradient.py:128: FutureWarning: max_iter and tol parameters have been added in <class 'sklearn.linear_model.stochastic_gradient.SGDClassifier'> in 0.19. If both are left unset, they default to max_iter=5 and tol=None. If tol is not None, max_iter defaults to max_iter=1000. From 0.21, default max_iter will be 1000, and default tol will be 1e-3.\n",
      "  \"and default tol will be 1e-3.\" % type(self), FutureWarning)\n",
      "/home/joerg/.conda/envs/datacron1/lib/python3.6/site-packages/sklearn/linear_model/stochastic_gradient.py:128: FutureWarning: max_iter and tol parameters have been added in <class 'sklearn.linear_model.stochastic_gradient.SGDClassifier'> in 0.19. If both are left unset, they default to max_iter=5 and tol=None. If tol is not None, max_iter defaults to max_iter=1000. From 0.21, default max_iter will be 1000, and default tol will be 1e-3.\n",
      "  \"and default tol will be 1e-3.\" % type(self), FutureWarning)\n",
      "/home/joerg/.conda/envs/datacron1/lib/python3.6/site-packages/sklearn/linear_model/stochastic_gradient.py:128: FutureWarning: max_iter and tol parameters have been added in <class 'sklearn.linear_model.stochastic_gradient.SGDClassifier'> in 0.19. If both are left unset, they default to max_iter=5 and tol=None. If tol is not None, max_iter defaults to max_iter=1000. From 0.21, default max_iter will be 1000, and default tol will be 1e-3.\n",
      "  \"and default tol will be 1e-3.\" % type(self), FutureWarning)\n",
      "/home/joerg/.conda/envs/datacron1/lib/python3.6/site-packages/sklearn/linear_model/stochastic_gradient.py:128: FutureWarning: max_iter and tol parameters have been added in <class 'sklearn.linear_model.stochastic_gradient.SGDClassifier'> in 0.19. If both are left unset, they default to max_iter=5 and tol=None. If tol is not None, max_iter defaults to max_iter=1000. From 0.21, default max_iter will be 1000, and default tol will be 1e-3.\n",
      "  \"and default tol will be 1e-3.\" % type(self), FutureWarning)\n",
      "/home/joerg/.conda/envs/datacron1/lib/python3.6/site-packages/sklearn/linear_model/stochastic_gradient.py:128: FutureWarning: max_iter and tol parameters have been added in <class 'sklearn.linear_model.stochastic_gradient.SGDClassifier'> in 0.19. If both are left unset, they default to max_iter=5 and tol=None. If tol is not None, max_iter defaults to max_iter=1000. From 0.21, default max_iter will be 1000, and default tol will be 1e-3.\n",
      "  \"and default tol will be 1e-3.\" % type(self), FutureWarning)\n",
      "/home/joerg/.conda/envs/datacron1/lib/python3.6/site-packages/sklearn/linear_model/stochastic_gradient.py:128: FutureWarning: max_iter and tol parameters have been added in <class 'sklearn.linear_model.stochastic_gradient.SGDClassifier'> in 0.19. If both are left unset, they default to max_iter=5 and tol=None. If tol is not None, max_iter defaults to max_iter=1000. From 0.21, default max_iter will be 1000, and default tol will be 1e-3.\n",
      "  \"and default tol will be 1e-3.\" % type(self), FutureWarning)\n",
      "/home/joerg/.conda/envs/datacron1/lib/python3.6/site-packages/sklearn/linear_model/stochastic_gradient.py:128: FutureWarning: max_iter and tol parameters have been added in <class 'sklearn.linear_model.stochastic_gradient.SGDClassifier'> in 0.19. If both are left unset, they default to max_iter=5 and tol=None. If tol is not None, max_iter defaults to max_iter=1000. From 0.21, default max_iter will be 1000, and default tol will be 1e-3.\n",
      "  \"and default tol will be 1e-3.\" % type(self), FutureWarning)\n",
      "/home/joerg/.conda/envs/datacron1/lib/python3.6/site-packages/sklearn/linear_model/stochastic_gradient.py:128: FutureWarning: max_iter and tol parameters have been added in <class 'sklearn.linear_model.stochastic_gradient.SGDClassifier'> in 0.19. If both are left unset, they default to max_iter=5 and tol=None. If tol is not None, max_iter defaults to max_iter=1000. From 0.21, default max_iter will be 1000, and default tol will be 1e-3.\n",
      "  \"and default tol will be 1e-3.\" % type(self), FutureWarning)\n",
      "/home/joerg/.conda/envs/datacron1/lib/python3.6/site-packages/sklearn/linear_model/stochastic_gradient.py:128: FutureWarning: max_iter and tol parameters have been added in <class 'sklearn.linear_model.stochastic_gradient.SGDClassifier'> in 0.19. If both are left unset, they default to max_iter=5 and tol=None. If tol is not None, max_iter defaults to max_iter=1000. From 0.21, default max_iter will be 1000, and default tol will be 1e-3.\n",
      "  \"and default tol will be 1e-3.\" % type(self), FutureWarning)\n",
      "/home/joerg/.conda/envs/datacron1/lib/python3.6/site-packages/sklearn/linear_model/stochastic_gradient.py:128: FutureWarning: max_iter and tol parameters have been added in <class 'sklearn.linear_model.stochastic_gradient.SGDClassifier'> in 0.19. If both are left unset, they default to max_iter=5 and tol=None. If tol is not None, max_iter defaults to max_iter=1000. From 0.21, default max_iter will be 1000, and default tol will be 1e-3.\n",
      "  \"and default tol will be 1e-3.\" % type(self), FutureWarning)\n",
      "/home/joerg/.conda/envs/datacron1/lib/python3.6/site-packages/sklearn/linear_model/stochastic_gradient.py:128: FutureWarning: max_iter and tol parameters have been added in <class 'sklearn.linear_model.stochastic_gradient.SGDClassifier'> in 0.19. If both are left unset, they default to max_iter=5 and tol=None. If tol is not None, max_iter defaults to max_iter=1000. From 0.21, default max_iter will be 1000, and default tol will be 1e-3.\n",
      "  \"and default tol will be 1e-3.\" % type(self), FutureWarning)\n",
      "/home/joerg/.conda/envs/datacron1/lib/python3.6/site-packages/sklearn/linear_model/stochastic_gradient.py:128: FutureWarning: max_iter and tol parameters have been added in <class 'sklearn.linear_model.stochastic_gradient.SGDClassifier'> in 0.19. If both are left unset, they default to max_iter=5 and tol=None. If tol is not None, max_iter defaults to max_iter=1000. From 0.21, default max_iter will be 1000, and default tol will be 1e-3.\n",
      "  \"and default tol will be 1e-3.\" % type(self), FutureWarning)\n",
      "/home/joerg/.conda/envs/datacron1/lib/python3.6/site-packages/sklearn/linear_model/stochastic_gradient.py:128: FutureWarning: max_iter and tol parameters have been added in <class 'sklearn.linear_model.stochastic_gradient.SGDClassifier'> in 0.19. If both are left unset, they default to max_iter=5 and tol=None. If tol is not None, max_iter defaults to max_iter=1000. From 0.21, default max_iter will be 1000, and default tol will be 1e-3.\n",
      "  \"and default tol will be 1e-3.\" % type(self), FutureWarning)\n",
      "/home/joerg/.conda/envs/datacron1/lib/python3.6/site-packages/sklearn/linear_model/stochastic_gradient.py:128: FutureWarning: max_iter and tol parameters have been added in <class 'sklearn.linear_model.stochastic_gradient.SGDClassifier'> in 0.19. If both are left unset, they default to max_iter=5 and tol=None. If tol is not None, max_iter defaults to max_iter=1000. From 0.21, default max_iter will be 1000, and default tol will be 1e-3.\n",
      "  \"and default tol will be 1e-3.\" % type(self), FutureWarning)\n"
     ]
    },
    {
     "data": {
      "text/plain": [
       "GridSearchCV(cv=KFold(n_splits=5, random_state=42, shuffle=True),\n",
       "       error_score='raise',\n",
       "       estimator=Pipeline(memory=Memory(cachedir='/tmp/tmp0kvy53ad/joblib'),\n",
       "     steps=[('scaling', StandardScaler(copy=True, with_mean=True, with_std=True)), ('sgd', SGDClassifier(alpha=0.0001, average=False, class_weight={1: 10}, epsilon=0.1,\n",
       "       eta0=0.0, fit_intercept=True, l1_ratio=0.15,\n",
       "       learning_rate='optimal', loss='modified_huber', max_iter=None,\n",
       "       n_iter=None, n_jobs=1, penalty='l2', power_t=0.5, random_state=42,\n",
       "       shuffle=True, tol=None, verbose=0, warm_start=True))]),\n",
       "       fit_params=None, iid=True, n_jobs=1,\n",
       "       param_grid={'sgd__alpha': (1e-05, 1e-06), 'sgd__penalty': ('l1', 'l2', 'elasticnet')},\n",
       "       pre_dispatch='2*n_jobs', refit=True, return_train_score='warn',\n",
       "       scoring='roc_auc', verbose=0)"
      ]
     },
     "execution_count": 67,
     "metadata": {},
     "output_type": "execute_result"
    }
   ],
   "source": [
    "grd2.fit(X_train, y_train)"
   ]
  },
  {
   "cell_type": "code",
   "execution_count": 68,
   "metadata": {},
   "outputs": [
    {
     "data": {
      "text/plain": [
       "{'sgd__alpha': 1e-05, 'sgd__penalty': 'elasticnet'}"
      ]
     },
     "execution_count": 68,
     "metadata": {},
     "output_type": "execute_result"
    }
   ],
   "source": [
    "grd2.best_params_"
   ]
  },
  {
   "cell_type": "markdown",
   "metadata": {},
   "source": [
    "### Training for online learning\n",
    "\n",
    "We will now instantiate an SGD Classifier with the parameters found in Grid Search and apply partial_fit() for this classifier on the data available."
   ]
  },
  {
   "cell_type": "code",
   "execution_count": 82,
   "metadata": {
    "collapsed": true
   },
   "outputs": [],
   "source": [
    "X = np.array(dfmain[['humidity', 'dewPoint', 'temperature', \n",
    "                    'pressure', 'visibility', 'windSpeed', \n",
    "                    'precipIntensity', 'precipProbability', \n",
    "                    'dat.cape', 'crosswind', 'ratio']])\n",
    "y = np.array(dfmain['regulated'])\n",
    "X_train, X_test, y_train, y_test = skl.model_selection.train_test_split(X, y, test_size=0.2, random_state=42)"
   ]
  },
  {
   "cell_type": "code",
   "execution_count": 91,
   "metadata": {},
   "outputs": [
    {
     "data": {
      "text/plain": [
       "SGDClassifier(alpha=1e-05, average=False, class_weight={1: 10}, epsilon=0.1,\n",
       "       eta0=0.0, fit_intercept=True, l1_ratio=0.15,\n",
       "       learning_rate='optimal', loss='log', max_iter=500, n_iter=None,\n",
       "       n_jobs=1, penalty='elasticnet', power_t=0.5, random_state=42,\n",
       "       shuffle=True, tol=0.001, verbose=0, warm_start=True)"
      ]
     },
     "execution_count": 91,
     "metadata": {},
     "output_type": "execute_result"
    }
   ],
   "source": [
    "scaler = preprocessing.StandardScaler()\n",
    "sgd1 = skl.linear_model.SGDClassifier(loss='log', alpha=0.00001, penalty='elasticnet',\n",
    "                                      random_state=42, class_weight={1: 10}, \n",
    "                                      warm_start=True, shuffle=True, max_iter=500, tol=0.001)\n",
    "\n",
    "\n",
    "X_train_t = scaler.fit_transform(X_train)\n",
    "sgd1.partial_fit(X_train_t, y_train, classes=[0, 1])"
   ]
  },
  {
   "cell_type": "markdown",
   "metadata": {},
   "source": [
    "### Evaluation"
   ]
  },
  {
   "cell_type": "code",
   "execution_count": 95,
   "metadata": {},
   "outputs": [
    {
     "name": "stderr",
     "output_type": "stream",
     "text": [
      "/home/joerg/.conda/envs/datacron1/lib/python3.6/site-packages/sklearn/linear_model/base.py:340: RuntimeWarning: overflow encountered in exp\n",
      "  np.exp(prob, prob)\n"
     ]
    },
    {
     "data": {
      "image/png": "[encoded data removed]",
      "text/plain": [
       "<matplotlib.figure.Figure at 0x7fab74667b00>"
      ]
     },
     "metadata": {},
     "output_type": "display_data"
    }
   ],
   "source": [
    "X_test_t = scaler.transform(X_test)\n",
    "y_pred = sgd1.predict_proba(X_test_t)[:, 1]\n",
    "plot_roc(y_test, y_pred)"
   ]
  },
  {
   "cell_type": "markdown",
   "metadata": {},
   "source": [
    "This shows that we could select an equally capable classifier that supports online learning. The $AUC$ shows the same value, but due to the logarithmic loss function, the carachteristic of the classifier is quite different."
   ]
  },
  {
   "cell_type": "markdown",
   "metadata": {},
   "source": [
    "# 5. Training a Classifier using SMOTE (synthetic minority oversampling)\n",
    "\n",
    "SMOTE has been described for example in [Nguyen2011](http://ousar.lib.okayama-u.ac.jp/files/public/1/19617/20160528004522391723/IWCIA2009_A1005.pdf), and the implementation in scikit-learn-contributions  is available in [Lemaitre2017](http://jmlr.org/papers/v18/16-365). SMOTE is a tachnique with which the original data is enriched by artificial data points belonging to the minority class. These points are placed into the input space neighbouring the original data points such that the boundary that is separating the two classes is sharpened.\n",
    "\n",
    "### Construction\n",
    "\n",
    "Comparing to the constructin above, SMOTE is only needed in the preprocessing step."
   ]
  },
  {
   "cell_type": "code",
   "execution_count": 106,
   "metadata": {
    "collapsed": true
   },
   "outputs": [],
   "source": [
    "from imblearn.over_sampling import SMOTE\n",
    "\n",
    "# resetting  the datasets, they might have been messed up by the learner above:\n",
    "X = np.array(dfmain[['humidity', 'dewPoint', 'temperature', \n",
    "                    'pressure', 'visibility', 'windSpeed', \n",
    "                    'precipIntensity', 'precipProbability', \n",
    "                    'dat.cape', 'crosswind', 'ratio']])\n",
    "y = np.array(dfmain['regulated'])\n",
    "\n",
    "# apply SMOTE for over-sampling:\n",
    "\n",
    "#X, y = smo.fit_sample(X, y)\n",
    "\n",
    "X_train, X_test, y_train, y_test = skl.model_selection.train_test_split(X, y, test_size=0.2, random_state=42)\n",
    "\n",
    "smo = SMOTE(ratio='auto', kind='regular', random_state=42)\n",
    "X_train, y_train = smo.fit_sample(X_train, y_train)\n"
   ]
  },
  {
   "cell_type": "code",
   "execution_count": 107,
   "metadata": {
    "collapsed": true
   },
   "outputs": [],
   "source": [
    "# 1. Instantiate a normalizer. Beware to fit on train, and only tranform on test (Cross Valid will do this for us)\n",
    "normer = preprocessing.Normalizer()\n",
    "\n",
    "\n",
    "# 2. Instantiate a Linear Support Vector Classifier.\n",
    "     # For Hyperparameter tuning, we will pay special attention to class weight due to the imbalanced dataset. \n",
    "svm3 = svm.SVC(probability=True, class_weight={1: 10})\n",
    "\n",
    "\n",
    "# 3. Forge normalizer and classifier into a pipeline. Make sure the pipeline steps are memorizable during the grid search.\n",
    "cached = mkdtemp()\n",
    "memory = Memory(cachedir=cached, verbose=0)\n",
    "pipe_3 = Pipeline(steps=[('normalization', normer), ('svm', svm3)], memory=memory)\n",
    "\n",
    "\n",
    "# 4. Instantiate Cross Validation\n",
    "cv = skl.model_selection.KFold(n_splits=5, shuffle=True, random_state=42)\n",
    "\n",
    "\n",
    "# 5. Instantiate the Grid Search for Hypereparameter Tuning\n",
    "#    As the normalizer and estimators are hidden in the pipeline, we pass the grid parameters\n",
    "#    with the '_' notation as described in scikit learn documentation: http://bit.ly/2AlhUaK\n",
    "params = [ {\"svm__kernel\": [\"linear\"], \"svm__C\": [1, 10, 100, 1000]}, \n",
    "               {\"svm__kernel\": [\"rbf\"], \"svm__C\": [1, 10, 100, 1000], \"svm__gamma\": [0.001, 0.0001]} ]\n",
    "\n",
    "grd3 = GridSearchCV(pipe_3, params, scoring='roc_auc', cv=cv)"
   ]
  },
  {
   "cell_type": "markdown",
   "metadata": {},
   "source": [
    "### Training"
   ]
  },
  {
   "cell_type": "code",
   "execution_count": 108,
   "metadata": {
    "collapsed": true
   },
   "outputs": [],
   "source": [
    "# fit the classifier on training set and predict on test set in one line (takes around 5 minutes):\n",
    "#y_pred = grd.fit(X_train, y_train).predict(X_test)\n",
    "y_pred = grd3.fit(X_train, y_train).predict_proba(X_test)[:, 1]\n",
    "# remove the cached normalization:\n",
    "rmtree(cached)"
   ]
  },
  {
   "cell_type": "markdown",
   "metadata": {},
   "source": [
    "### Evaluation"
   ]
  },
  {
   "cell_type": "code",
   "execution_count": 109,
   "metadata": {},
   "outputs": [
    {
     "data": {
      "image/png": "[encoded data removed]",
      "text/plain": [
       "<matplotlib.figure.Figure at 0x7fab6be1f240>"
      ]
     },
     "metadata": {},
     "output_type": "display_data"
    },
    {
     "name": "stdout",
     "output_type": "stream",
     "text": [
      "This AUC has been achieved with the following parameters:\n",
      "{'svm__C': 1000, 'svm__kernel': 'linear'}\n"
     ]
    }
   ],
   "source": [
    "plot_roc(y_test, y_pred)\n",
    "print('This AUC has been achieved with the following parameters:')\n",
    "print( grd3.best_params_ )"
   ]
  },
  {
   "cell_type": "markdown",
   "metadata": {},
   "source": [
    "With an $AUC$ of .87, we can see that the SMOTE preprocessing technique improved the way our classifier works."
   ]
  },
  {
   "cell_type": "markdown",
   "metadata": {},
   "source": [
    "# Code snippets"
   ]
  },
  {
   "cell_type": "code",
   "execution_count": null,
   "metadata": {
    "collapsed": true
   },
   "outputs": [],
   "source": [
    "y_pred_prob = grd.predict_proba(X_test)\n",
    "y_pred_prob"
   ]
  },
  {
   "cell_type": "code",
   "execution_count": null,
   "metadata": {
    "collapsed": true
   },
   "outputs": [],
   "source": [
    "plt.rcParams['font.size'] = 14\n",
    "plt.hist(y_pred_prob, bins=18)\n",
    "plt.xlim(0,1)\n",
    "plt.title('Histogram of Regulation probabilities')\n",
    "plt.xlabel('Predicted Prob')\n",
    "plt.ylabel('Frequency')"
   ]
  },
  {
   "cell_type": "markdown",
   "metadata": {},
   "source": [
    "# 5. Interactive Adjustments\n",
    "\n",
    "We will let the user decide interactively, which threshhold probability to use.\n"
   ]
  },
  {
   "cell_type": "code",
   "execution_count": 18,
   "metadata": {},
   "outputs": [
    {
     "data": {
      "application/vnd.jupyter.widget-view+json": {
       "model_id": "b6dbb3c3c1d64cb59481c10d539b3726",
       "version_major": 2,
       "version_minor": 0
      },
      "text/html": [
       "<p>Failed to display Jupyter Widget of type <code>interactive</code>.</p>\n",
       "<p>\n",
       "  If you're reading this message in the Jupyter Notebook or JupyterLab Notebook, it may mean\n",
       "  that the widgets JavaScript is still loading. If this message persists, it\n",
       "  likely means that the widgets JavaScript library is either not installed or\n",
       "  not enabled. See the <a href=\"https://ipywidgets.readthedocs.io/en/stable/user_install.html\">Jupyter\n",
       "  Widgets Documentation</a> for setup instructions.\n",
       "</p>\n",
       "<p>\n",
       "  If you're reading this message in another frontend (for example, a static\n",
       "  rendering on GitHub or <a href=\"https://nbviewer.jupyter.org/\">NBViewer</a>),\n",
       "  it may mean that your frontend doesn't currently support widgets.\n",
       "</p>\n"
      ],
      "text/plain": [
       "interactive(children=(FloatSlider(value=0.5, description='Threshold', max=1.0, step=0.01), Output()), _dom_classes=('widget-interact',))"
      ]
     },
     "metadata": {},
     "output_type": "display_data"
    }
   ],
   "source": [
    "import itertools\n",
    "from ipywidgets import widgets\n",
    "\n",
    "class_names=[0, 1]\n",
    "\n",
    "def plot_confusion_matrix(cm, classes,\n",
    "                          normalize=False,\n",
    "                          title='Confusion matrix',\n",
    "                          cmap=plt.cm.Blues):\n",
    "    \"\"\"\n",
    "    This function prints and plots the confusion matrix.\n",
    "    Normalization can be applied by setting `normalize=True`.\n",
    "    \"\"\"\n",
    "    if normalize:\n",
    "        cm = cm.astype('float') / cm.sum(axis=1)[:, np.newaxis]\n",
    "        print(\"Normalized confusion matrix\")\n",
    "    else:\n",
    "        print('Confusion matrix, without normalization')\n",
    "\n",
    "    print(cm)\n",
    "\n",
    "    plt.imshow(cm, interpolation='nearest', cmap=cmap)\n",
    "    plt.title(title)\n",
    "    plt.colorbar()\n",
    "    tick_marks = np.arange(len(classes))\n",
    "    plt.xticks(tick_marks, classes, rotation=45)\n",
    "    plt.yticks(tick_marks, classes)\n",
    "\n",
    "    fmt = '.2f' if normalize else 'd'\n",
    "    thresh = cm.max() / 2.\n",
    "    for i, j in itertools.product(range(cm.shape[0]), range(cm.shape[1])):\n",
    "        plt.text(j, i, format(cm[i, j], fmt),\n",
    "                 horizontalalignment=\"center\",\n",
    "                 color=\"white\" if cm[i, j] > thresh else \"black\")\n",
    "\n",
    "    plt.tight_layout()\n",
    "    plt.ylabel('True label')\n",
    "    plt.xlabel('Predicted label')\n",
    "\n",
    "\n",
    "def confadjust(x):   \n",
    "    # Compute confusion matrix\n",
    "    y_pred_prob = grd.predict_proba(X_test)\n",
    "    y_pred_class = skl.preprocessing.binarize(y_pred_prob, threshold=x)[: , 1]    \n",
    "    cnf_matrix = skl.metrics.confusion_matrix(y_test, y_pred_class)\n",
    "    np.set_printoptions(precision=2)\n",
    "    plt.figure()\n",
    "    plot_confusion_matrix(cnf_matrix, classes=class_names, normalize=False, title='Confusion Matrix')\n",
    "    plt.show()\n",
    "\n",
    "\n",
    "widgets.interact(confadjust, x=widgets.FloatSlider(value=.5,min=0,max=1.0,step=0.01, description='Threshold'));\n",
    "\n"
   ]
  },
  {
   "cell_type": "code",
   "execution_count": null,
   "metadata": {
    "collapsed": true
   },
   "outputs": [],
   "source": [
    "from sklearn.pipeline import FeatureUnion, Pipeline from sklearn.decomposition import PCA, KernelPCA \n",
    "from sklearn.feature_selection import SelectKBest\n",
    "union = FeatureUnion([(\"pca\", PCA()), (\"kpca\", KernelPCA(kernel=\"rbf\"))])\n",
    "Pipeline([(\"feat_union\", union), \n",
    "          (\"feat_sel\", SelectKBest(k=10)), \n",
    "          (\"log_reg\", LogisticRegression(penalty=\"l2\")) ]).fit(X_train, y_train).predict(X_test)"
   ]
  },
  {
   "cell_type": "markdown",
   "metadata": {},
   "source": [
    "statt GridSearchCV könnte ich auch RandomizedSearchCV nehmen. Diese Algorithmen sind dann auch für die Cross-Validation (k-fold) und die score functions zuständig. The score function used by default is the estimator’s score method, but the library provides a variety of alternatives that the user can choose from, including accuracy, AUC and F1 score for classification, R2 score and mean squared error for regression."
   ]
  }
 ],
 "metadata": {
  "kernelspec": {
   "display_name": "datacron1",
   "language": "python",
   "name": "python3"
  },
  "language_info": {
   "codemirror_mode": {
    "name": "ipython",
    "version": 3
   },
   "file_extension": ".py",
   "mimetype": "text/x-python",
   "name": "python",
   "nbconvert_exporter": "python",
   "pygments_lexer": "ipython3",
   "version": "3.6.3"
  },
  "toc": {
   "nav_menu": {},
   "number_sections": false,
   "sideBar": true,
   "skip_h1_title": false,
   "toc_cell": false,
   "toc_position": {
    "height": "741px",
    "left": "0px",
    "right": "1447px",
    "top": "107px",
    "width": "313px"
   },
   "toc_section_display": "block",
   "toc_window_display": true
  }
 },
 "nbformat": 4,
 "nbformat_minor": 2
}
