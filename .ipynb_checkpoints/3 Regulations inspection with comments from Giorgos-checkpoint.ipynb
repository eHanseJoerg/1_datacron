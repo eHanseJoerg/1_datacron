{
 "cells": [
  {
   "cell_type": "markdown",
   "metadata": {},
   "source": [
    "# Regulation Inspection"
   ]
  },
  {
   "cell_type": "markdown",
   "metadata": {},
   "source": [
    "The goal is to be able to forecast regulations, based on raw data like WX conditions or traffic density. \n",
    "\n",
    "My focus is on WX regulations.\n",
    "According to the document \"CRIDA-Regulations-20160401-20160430.csv\", regulations have the following properties:\n",
    "\n",
    "| dateReference | RegulationStart   | RegulationId | TrafficVolumeSet | ReferenceLocation | ReferenceLocationType | TrafficVolume | RegulationEnd     | RegulationActivity | RegulationCancelTime | RegulationDuration | AiracCycle | RegulationCategory | RegulationReasonCode | RegulationDescription | \n",
    "|---------------|-------------------|--------------|------------------|-------------------|-----------------------|---------------|-------------------|--------------------|----------------------|--------------------|------------|--------------------|----------------------|-----------------------| \n",
    "| 20160401      | 20160401 04:40:00 | EDDFA01      | EDGGFMP1         | EDDF              | AD                    | EDDFAWX       | 20160401 07:20:00 | C                  | 20160401 05:52:57    | 72                 | 411        | T                  | W                    | STRONG WINDS          | \n",
    "| 20160401      | 20160401 06:00:00 | LEBLA01M     | LECBFMP          | LEBL              | AD                    | LEBLARR       | 20160401 13:00:00 | C                  | 20160401 11:41:42    | 341                | 411        | T                  | W                    | CB + STORM            | \n",
    "| 20160401      | 20160401 08:40:00 | LECVN01M     | LECBFMP          | LECBCVN           | AS                    | LECBCVN1      | 20160401 11:20:00 | C                  | 20160401 08:16:03    | -23                | 411        | T                  | C                    |                       | \n",
    "\n",
    "\n",
    "\n",
    "Acc. \"DatAcron Data sources for Flow Management scenarios.pptx\", Traffic Volume is the sector name.\n",
    "\n",
    "These are three typical examples for WX-caused regulations. It is important to note the column \"referenceLocation\" which indicates us that the critical weather, that caused the regulation, is not co-located with the regulated sector. Note also the \"referenceLocationType\", which denotes if the area of interest is an airport or an airspace.\n",
    "\n",
    "The second important column is the \"RegulationCancelTime\", which denotes that a regulation may be cancelled if, for example, the actual weather turns out to be better than expected, or the network resilience is good enough to cope with demand exceeding capacity. The third regulation was even cancelled before it begun, yielding a negative \"regulation time\".\n",
    "\n",
    "\n",
    "\n",
    "With the following data exploration, I hope to pull these important properties of the regulation out of the data store. \n"
   ]
  },
  {
   "cell_type": "code",
   "execution_count": 1,
   "metadata": {
    "collapsed": true
   },
   "outputs": [],
   "source": [
    "import pandas as pd\n",
    "from pandas.io.json import json_normalize, read_json\n",
    "from SPARQLWrapper import SPARQLWrapper, JSON, XML, RDF\n",
    "\n",
    "#import my connection module which allows to connect to the datAcron rdf store\n",
    "from datacron_connector import TripleStoreConnector\n",
    "\n",
    "ts107 = TripleStoreConnector(0)\n",
    "ts109 = TripleStoreConnector(1)"
   ]
  },
  {
   "cell_type": "markdown",
   "metadata": {},
   "source": [
    "Let's check what kind of regulations are stored in the triple store."
   ]
  },
  {
   "cell_type": "markdown",
   "metadata": {},
   "source": [
    "## Get all airblocks of spain\n",
    "\n",
    "First, I will get all airblocks, together with their airspaces and super-airspaces."
   ]
  },
  {
   "cell_type": "code",
   "execution_count": 3,
   "metadata": {
    "scrolled": true
   },
   "outputs": [
    {
     "name": "stdout",
     "output_type": "stream",
     "text": [
      "CPU times: user 4 ms, sys: 0 ns, total: 4 ms\n",
      "Wall time: 863 µs\n"
     ]
    },
    {
     "data": {
      "text/html": [
       "<div>\n",
       "<table border=\"1\" class=\"dataframe\">\n",
       "  <thead>\n",
       "    <tr style=\"text-align: right;\">\n",
       "      <th></th>\n",
       "      <th>conf</th>\n",
       "      <th>bigairspace</th>\n",
       "      <th>airspace</th>\n",
       "      <th>block</th>\n",
       "      <th>wkt</th>\n",
       "      <th>lowerlevel</th>\n",
       "      <th>upperlevel</th>\n",
       "    </tr>\n",
       "  </thead>\n",
       "  <tbody>\n",
       "  </tbody>\n",
       "</table>\n",
       "</div>"
      ],
      "text/plain": [
       "Empty DataFrame\n",
       "Columns: [conf, bigairspace, airspace, block, wkt, lowerlevel, upperlevel]\n",
       "Index: []"
      ]
     },
     "execution_count": 3,
     "metadata": {},
     "output_type": "execute_result"
    }
   ],
   "source": [
    "qry = \"\"\"\n",
    "PREFIX : <http://www.datacron-project.eu/datAcron#>\n",
    "PREFIX rdfs: <http://www.w3.org/2000/01/rdf-schema#>\n",
    "PREFIX dul: <http://www.ontologydesignpatterns.org/ont/dul/DUL.owl#>\n",
    "PREFIX myfn: <java:datAcronTester.unipi.gr.sparql_functions.>\n",
    "\n",
    "SELECT  ?conf ?bigairspace ?airspace ?block ?wkt ?lowerlevel ?upperlevel\n",
    "WHERE { \n",
    "   \n",
    "   ?airspace dul:hasPart       ?block .\n",
    "   ?block       :hasLowerLevel ?lowerlevel ;\n",
    "                :hasUpperLevel ?upperlevel ;\n",
    "                :hasGeometry   ?geom.\n",
    "   ?geom        :hasMBR_WKT  ?wkt .\n",
    "   \n",
    "   OPTIONAL {?bigairspace dul:hasPart ?airspace. \n",
    "             #?conf           :configurationOfAirspace ?bigairspace ;\n",
    "             #             dul:hasConstituent          ?t.\n",
    "             #?t :TimeStart ?start ;\n",
    "             #   :TimeEnd ?end.\n",
    "             }.\n",
    "   \n",
    "   FILTER regex(str(?block), 'Airblock_LE', \"i\")\n",
    "}\n",
    "\"\"\"\n",
    "\n",
    "df2 = ts107.query(qry)\n",
    "df2 = ts107.clean(df2)\n",
    "%time df2 = df2.sort_values('block')\n",
    "\n",
    "df2.to_csv('data/allspanishairblocks.csv')\n",
    "df2.head(10)"
   ]
  },
  {
   "cell_type": "markdown",
   "metadata": {},
   "source": [
    "## Get all information about the three regulations above\n",
    "\n",
    "First, I will check what kind of regulations are available and then, I will check what information is available on the three regulations from the example in the introduction."
   ]
  },
  {
   "cell_type": "code",
   "execution_count": 9,
   "metadata": {},
   "outputs": [
    {
     "data": {
      "text/html": [
       "<div>\n",
       "<table border=\"1\" class=\"dataframe\">\n",
       "  <thead>\n",
       "    <tr style=\"text-align: right;\">\n",
       "      <th></th>\n",
       "      <th>s</th>\n",
       "    </tr>\n",
       "  </thead>\n",
       "  <tbody>\n",
       "    <tr>\n",
       "      <th>0</th>\n",
       "      <td>FM_Regulation</td>\n",
       "    </tr>\n",
       "    <tr>\n",
       "      <th>1</th>\n",
       "      <td>ATC_WeatherAlternateRegulation</td>\n",
       "    </tr>\n",
       "    <tr>\n",
       "      <th>2</th>\n",
       "      <td>ATC_SecurityRegulation</td>\n",
       "    </tr>\n",
       "    <tr>\n",
       "      <th>3</th>\n",
       "      <td>ATC_RestrictionWeatherAtDestinationRegulation</td>\n",
       "    </tr>\n",
       "    <tr>\n",
       "      <th>4</th>\n",
       "      <td>ATC_RestrictionStaffShortageRegulation</td>\n",
       "    </tr>\n",
       "    <tr>\n",
       "      <th>5</th>\n",
       "      <td>ATC_RestrictionRegulation</td>\n",
       "    </tr>\n",
       "    <tr>\n",
       "      <th>6</th>\n",
       "      <td>ATC_RestrictionAtDestinationRegulation</td>\n",
       "    </tr>\n",
       "    <tr>\n",
       "      <th>7</th>\n",
       "      <td>ATC_RestrictionAtDepartureRegulation</td>\n",
       "    </tr>\n",
       "    <tr>\n",
       "      <th>8</th>\n",
       "      <td>ATC_OtherRegulationAtDestination</td>\n",
       "    </tr>\n",
       "    <tr>\n",
       "      <th>9</th>\n",
       "      <td>ATC_ImmigrationCustomsHealthRegulation</td>\n",
       "    </tr>\n",
       "  </tbody>\n",
       "</table>\n",
       "</div>"
      ],
      "text/plain": [
       "                                               s\n",
       "0                                  FM_Regulation\n",
       "1                 ATC_WeatherAlternateRegulation\n",
       "2                         ATC_SecurityRegulation\n",
       "3  ATC_RestrictionWeatherAtDestinationRegulation\n",
       "4         ATC_RestrictionStaffShortageRegulation\n",
       "5                      ATC_RestrictionRegulation\n",
       "6         ATC_RestrictionAtDestinationRegulation\n",
       "7           ATC_RestrictionAtDepartureRegulation\n",
       "8               ATC_OtherRegulationAtDestination\n",
       "9         ATC_ImmigrationCustomsHealthRegulation"
      ]
     },
     "execution_count": 9,
     "metadata": {},
     "output_type": "execute_result"
    }
   ],
   "source": [
    "qry = \"\"\"\n",
    "PREFIX : <http://www.datacron-project.eu/datAcron#>\n",
    "PREFIX dul: <http://www.ontologydesignpatterns.org/ont/dul/DUL.owl#>\n",
    "\n",
    "SELECT ?s\n",
    "WHERE {\n",
    "  ?s rdfs:subClassOf* :FM_Regulation .\n",
    "}\n",
    "\"\"\"\n",
    " #?s rdf:type/rdfs:subClassOf* :SpatiotemporalRegion \n",
    "\n",
    "df = ts107.query(qry)\n",
    "df = ts107.clean(df)\n",
    "df.head(10)\n",
    "\n"
   ]
  },
  {
   "cell_type": "markdown",
   "metadata": {},
   "source": [
    "What properties are available for the WX regulations? I hope to see some of the columns listed in the introduction."
   ]
  },
  {
   "cell_type": "code",
   "execution_count": 49,
   "metadata": {},
   "outputs": [
    {
     "data": {
      "text/html": [
       "<div>\n",
       "<table border=\"1\" class=\"dataframe\">\n",
       "  <thead>\n",
       "    <tr style=\"text-align: right;\">\n",
       "      <th></th>\n",
       "      <th>p</th>\n",
       "    </tr>\n",
       "  </thead>\n",
       "  <tbody>\n",
       "    <tr>\n",
       "      <th>0</th>\n",
       "      <td>type</td>\n",
       "    </tr>\n",
       "    <tr>\n",
       "      <th>1</th>\n",
       "      <td>hasRegion</td>\n",
       "    </tr>\n",
       "    <tr>\n",
       "      <th>2</th>\n",
       "      <td>hasTimeInterval</td>\n",
       "    </tr>\n",
       "    <tr>\n",
       "      <th>3</th>\n",
       "      <td>RegulationAiracCycle</td>\n",
       "    </tr>\n",
       "    <tr>\n",
       "      <th>4</th>\n",
       "      <td>RegulationDescription</td>\n",
       "    </tr>\n",
       "    <tr>\n",
       "      <th>5</th>\n",
       "      <td>hasReferenceLocation</td>\n",
       "    </tr>\n",
       "  </tbody>\n",
       "</table>\n",
       "</div>"
      ],
      "text/plain": [
       "                       p\n",
       "0                   type\n",
       "1              hasRegion\n",
       "2        hasTimeInterval\n",
       "3   RegulationAiracCycle\n",
       "4  RegulationDescription\n",
       "5   hasReferenceLocation"
      ]
     },
     "execution_count": 49,
     "metadata": {},
     "output_type": "execute_result"
    }
   ],
   "source": [
    "qry = \"\"\"\n",
    "PREFIX : <http://www.datacron-project.eu/datAcron#>\n",
    "PREFIX dul: <http://www.ontologydesignpatterns.org/ont/dul/DUL.owl#>\n",
    "\n",
    "SELECT DISTINCT ?p\n",
    "WHERE {\n",
    "  ?s a :ATC_WeatherRegulation ; \n",
    "     ?p ?o .\n",
    "}\n",
    "\"\"\"\n",
    "df = ts109.query(qry)\n",
    "df = ts109.clean(df)\n",
    "\n",
    "df"
   ]
  },
  {
   "cell_type": "markdown",
   "metadata": {},
   "source": [
    "PROBLEM\n",
    "\n",
    "It seems that at least the \n",
    "\n",
    " - reference location\n",
    " - reference location type\n",
    " - and the cancellation time \n",
    " \n",
    "are not available. Maybe hidden somewhere? I will inspect further. In the next query, I inspect all properties of the three regulations cited above."
   ]
  },
  {
   "cell_type": "code",
   "execution_count": 50,
   "metadata": {
    "scrolled": false
   },
   "outputs": [
    {
     "data": {
      "text/html": [
       "<div>\n",
       "<table border=\"1\" class=\"dataframe\">\n",
       "  <thead>\n",
       "    <tr style=\"text-align: right;\">\n",
       "      <th></th>\n",
       "      <th>s</th>\n",
       "      <th>trafficVolume</th>\n",
       "      <th>refLoc</th>\n",
       "      <th>description</th>\n",
       "      <th>time</th>\n",
       "      <th>stype</th>\n",
       "      <th>start</th>\n",
       "      <th>end</th>\n",
       "    </tr>\n",
       "  </thead>\n",
       "  <tbody>\n",
       "    <tr>\n",
       "      <th>0</th>\n",
       "      <td>EDDFA01_411</td>\n",
       "      <td>Airspace_EDDF_411</td>\n",
       "      <td>Place_Frankfurt_Main_Airport</td>\n",
       "      <td>STRONG WINDS_</td>\n",
       "      <td>intv_1459485600000_1459495200000</td>\n",
       "      <td>ATC_WeatherRegulation</td>\n",
       "      <td>2016-04-01T04:40:00</td>\n",
       "      <td>2016-04-01T05:52:57</td>\n",
       "    </tr>\n",
       "    <tr>\n",
       "      <th>1</th>\n",
       "      <td>LEBLA01M_411</td>\n",
       "      <td>Airspace_LEBL_411</td>\n",
       "      <td>Place_Barcelona_El_Prat_Airport</td>\n",
       "      <td>CB + STORM_</td>\n",
       "      <td>intv_1459490400000_1459515600000</td>\n",
       "      <td>ATC_WeatherRegulation</td>\n",
       "      <td>2016-04-01T06:00:00</td>\n",
       "      <td>2016-04-01T11:41:42</td>\n",
       "    </tr>\n",
       "    <tr>\n",
       "      <th>2</th>\n",
       "      <td>LECVN01M_411</td>\n",
       "      <td>Airspace_LECBCVN_411</td>\n",
       "      <td>Airspace_LECBCVN_411</td>\n",
       "      <td>_</td>\n",
       "      <td>intv_1459500000000_1459509600000</td>\n",
       "      <td>ATC_Capacity</td>\n",
       "      <td>2016-04-01T08:40:00</td>\n",
       "      <td>2016-04-01T08:16:03</td>\n",
       "    </tr>\n",
       "  </tbody>\n",
       "</table>\n",
       "</div>"
      ],
      "text/plain": [
       "              s         trafficVolume                           refLoc  \\\n",
       "0   EDDFA01_411     Airspace_EDDF_411     Place_Frankfurt_Main_Airport   \n",
       "1  LEBLA01M_411     Airspace_LEBL_411  Place_Barcelona_El_Prat_Airport   \n",
       "2  LECVN01M_411  Airspace_LECBCVN_411             Airspace_LECBCVN_411   \n",
       "\n",
       "     description                              time                  stype  \\\n",
       "0  STRONG WINDS_  intv_1459485600000_1459495200000  ATC_WeatherRegulation   \n",
       "1    CB + STORM_  intv_1459490400000_1459515600000  ATC_WeatherRegulation   \n",
       "2              _  intv_1459500000000_1459509600000           ATC_Capacity   \n",
       "\n",
       "                 start                  end  \n",
       "0  2016-04-01T04:40:00  2016-04-01T05:52:57  \n",
       "1  2016-04-01T06:00:00  2016-04-01T11:41:42  \n",
       "2  2016-04-01T08:40:00  2016-04-01T08:16:03  "
      ]
     },
     "execution_count": 50,
     "metadata": {},
     "output_type": "execute_result"
    }
   ],
   "source": [
    "qry = \"\"\"\n",
    "PREFIX : <http://www.datacron-project.eu/datAcron#>\n",
    "PREFIX dul: <http://www.ontologydesignpatterns.org/ont/dul/DUL.owl#>\n",
    "\n",
    "SELECT *\n",
    "WHERE {\n",
    "  VALUES ?s {:EDDFA01_411 :LEBLA01M_411 :LECVN01M_411} \n",
    "  ?s dul:hasRegion             ?trafficVolume ;\n",
    "        :hasReferenceLocation ?refLoc ;\n",
    " :RegulationDescription ?description ;\n",
    "    dul:hasTimeInterval       ?time  ;\n",
    "        a                     ?stype.\n",
    "\n",
    " ?time :TimeStart ?start ;\n",
    "       :TimeEnd   ?end .\n",
    "}\n",
    "\"\"\"\n",
    "\n",
    "reguls = ts109.query(qry)\n",
    "reguls = ts109.clean(reguls)\n",
    "reguls.to_csv('data/regulations.csv')\n",
    "reguls.head(20)\n",
    "\n",
    "\n"
   ]
  },
  {
   "cell_type": "code",
   "execution_count": 54,
   "metadata": {},
   "outputs": [
    {
     "data": {
      "text/html": [
       "<div>\n",
       "<table border=\"1\" class=\"dataframe\">\n",
       "  <thead>\n",
       "    <tr style=\"text-align: right;\">\n",
       "      <th></th>\n",
       "      <th>p</th>\n",
       "      <th>o</th>\n",
       "    </tr>\n",
       "  </thead>\n",
       "  <tbody>\n",
       "    <tr>\n",
       "      <th>0</th>\n",
       "      <td>type</td>\n",
       "      <td>FM_Airspace</td>\n",
       "    </tr>\n",
       "    <tr>\n",
       "      <th>1</th>\n",
       "      <td>hasPart</td>\n",
       "      <td>Airblock_LECBVNI_085LE</td>\n",
       "    </tr>\n",
       "    <tr>\n",
       "      <th>2</th>\n",
       "      <td>hasPart</td>\n",
       "      <td>Airblock_LECBVNI_086LE</td>\n",
       "    </tr>\n",
       "    <tr>\n",
       "      <th>3</th>\n",
       "      <td>hasPart</td>\n",
       "      <td>Airblock_LECBVNI_087LE</td>\n",
       "    </tr>\n",
       "    <tr>\n",
       "      <th>4</th>\n",
       "      <td>hasPart</td>\n",
       "      <td>Airblock_LECBVNI_088LE</td>\n",
       "    </tr>\n",
       "    <tr>\n",
       "      <th>5</th>\n",
       "      <td>hasPart</td>\n",
       "      <td>Airblock_LECBVNI_089L</td>\n",
       "    </tr>\n",
       "    <tr>\n",
       "      <th>6</th>\n",
       "      <td>isPartOf</td>\n",
       "      <td>Airspace_LETOT_411</td>\n",
       "    </tr>\n",
       "    <tr>\n",
       "      <th>7</th>\n",
       "      <td>hasName</td>\n",
       "      <td>VERSO  NORTH</td>\n",
       "    </tr>\n",
       "  </tbody>\n",
       "</table>\n",
       "</div>"
      ],
      "text/plain": [
       "          p                       o\n",
       "0      type             FM_Airspace\n",
       "1   hasPart  Airblock_LECBVNI_085LE\n",
       "2   hasPart  Airblock_LECBVNI_086LE\n",
       "3   hasPart  Airblock_LECBVNI_087LE\n",
       "4   hasPart  Airblock_LECBVNI_088LE\n",
       "5   hasPart   Airblock_LECBVNI_089L\n",
       "6  isPartOf      Airspace_LETOT_411\n",
       "7   hasName            VERSO  NORTH"
      ]
     },
     "execution_count": 54,
     "metadata": {},
     "output_type": "execute_result"
    }
   ],
   "source": [
    "qry = \"\"\"\n",
    "PREFIX : <http://www.datacron-project.eu/datAcron#>\n",
    "PREFIX dul: <http://www.ontologydesignpatterns.org/ont/dul/DUL.owl#>\n",
    "\n",
    "SELECT *\n",
    "WHERE {\n",
    "  :Airspace_LECBVNI_411 ?p ?o\n",
    "}\n",
    "\"\"\"\n",
    "\n",
    "space = ts109.query(qry)\n",
    "space = ts109.clean(space)\n",
    "space.head(20)\n",
    "\n"
   ]
  },
  {
   "cell_type": "markdown",
   "metadata": {},
   "source": [
    "UPDATE\n",
    "\n",
    "Good:\n",
    " - The referenceLocation are now encoded. \n",
    " - The 109 yields the required results. The times are correct now.\n",
    " - But still entering the \"sector\" value from the regulations query does not get me any further.\n",
    "\n",
    "To Do:\n",
    " - Somehow, I need to get from regulations to airblocks.\n",
    " - Maybe something wrong with my queries?\n",
    " - Here the answer from Giorgos: Comment 8: \"Getting from regulations to airblocks is currently possible, with the following query:\""
   ]
  },
  {
   "cell_type": "code",
   "execution_count": null,
   "metadata": {
    "scrolled": true
   },
   "outputs": [],
   "source": [
    "qry = \"\"\"\n",
    "PREFIX : <http://www.datacron-project.eu/datAcron#>\n",
    "PREFIX dul: <http://www.ontologydesignpatterns.org/ont/dul/DUL.owl#>\n",
    "PREFIX rdfs: <http://www.w3.org/2000/01/rdf-schema#>\n",
    "PREFIX myfn: <java:datAcronTester.unipi.gr.sparql_functions.>\n",
    "\n",
    "SELECT ?regulation ?airspace ?refloc (myfn:getGeom(?g) as ?WKT) ?low ?high ?config ?open ?close\n",
    "WHERE {\n",
    "  ?regulation      a             ?type .\n",
    "  ?type       rdfs:subClassOf    :FM_Regulation .\n",
    "  ?regulation  dul:hasRegion     ?airspace ;\n",
    "                  :hasReferenceLocation ?refloc ;\n",
    "               dul:hasTimeInterval       ?regtime  .\n",
    "   ?regtime       :TimeStart             ?regstart ;\n",
    "                  :TimeEnd               ?regend .\n",
    "\n",
    "  ?airspace    dul:hasPart       ?s .\n",
    "  ?s           dul:hasPart       ?b .\n",
    "  ?b              :hasGeometry   ?g ;\n",
    "                  :hasLowerLevel ?low ;\n",
    "                  :hasUpperLevel ?high .\n",
    "                  \n",
    "                  \n",
    "   ?config a :FM_Configuration ;\n",
    "             :configurationOfAirspace ?airspace ;\n",
    "          dul:hasConstituent          ?period .\n",
    "   ?period   :TimeStart               ?open ;\n",
    "             :TimeEnd                 ?close.\n",
    "} LIMIT 1000\n",
    "\n",
    "\"\"\"\n",
    "\n",
    "regs_and_spaces = ts109.query(qry)\n",
    "regs_and_spaces = ts109.clean(regs_and_spaces)\n",
    "regs_and_spaces.head(60)"
   ]
  },
  {
   "cell_type": "code",
   "execution_count": null,
   "metadata": {},
   "outputs": [],
   "source": [
    "len(regs_and_spaces)"
   ]
  },
  {
   "cell_type": "code",
   "execution_count": 67,
   "metadata": {
    "scrolled": false
   },
   "outputs": [
    {
     "data": {
      "text/html": [
       "<div>\n",
       "<table border=\"1\" class=\"dataframe\">\n",
       "  <thead>\n",
       "    <tr style=\"text-align: right;\">\n",
       "      <th></th>\n",
       "      <th>airspace</th>\n",
       "      <th>refloc</th>\n",
       "    </tr>\n",
       "  </thead>\n",
       "  <tbody>\n",
       "    <tr>\n",
       "      <th>0</th>\n",
       "      <td>Airspace_LEBL_411</td>\n",
       "      <td>Place_Barcelona_El_Prat_Airport</td>\n",
       "    </tr>\n",
       "  </tbody>\n",
       "</table>\n",
       "</div>"
      ],
      "text/plain": [
       "            airspace                           refloc\n",
       "0  Airspace_LEBL_411  Place_Barcelona_El_Prat_Airport"
      ]
     },
     "execution_count": 67,
     "metadata": {},
     "output_type": "execute_result"
    }
   ],
   "source": [
    "qry = \"\"\"\n",
    "PREFIX : <http://www.datacron-project.eu/datAcron#>\n",
    "PREFIX dul: <http://www.ontologydesignpatterns.org/ont/dul/DUL.owl#>\n",
    "PREFIX rdfs: <http://www.w3.org/2000/01/rdf-schema#>\n",
    "PREFIX myfn: <java:datAcronTester.unipi.gr.sparql_functions.>\n",
    "\n",
    "SELECT ?airspace ?refloc #(myfn:getGeom(?g) as ?WKT) ?low ?high\n",
    "WHERE {\n",
    "  :LEBLA01M_411 dul:hasRegion     ?airspace ;\n",
    "                  :hasReferenceLocation ?refloc.\n",
    " # ?airspace    dul:hasPart       ?s .\n",
    "#  ?s           dul:hasPart       ?b .\n",
    "#  ?b              :hasGeometry   ?g ;\n",
    " #                 :hasLowerLevel ?low ;\n",
    "#                  :hasUpperLevel ?high .\n",
    "} limit 100\n",
    "\n",
    "\"\"\"\n",
    "\n",
    "regs_and_spaces = ts109.query(qry)\n",
    "regs_and_spaces = ts109.clean(regs_and_spaces)\n",
    "regs_and_spaces.head(60)"
   ]
  },
  {
   "cell_type": "code",
   "execution_count": 42,
   "metadata": {
    "scrolled": true
   },
   "outputs": [
    {
     "data": {
      "text/html": [
       "<div>\n",
       "<table border=\"1\" class=\"dataframe\">\n",
       "  <thead>\n",
       "    <tr style=\"text-align: right;\">\n",
       "      <th></th>\n",
       "      <th>regulation</th>\n",
       "      <th>airspace</th>\n",
       "    </tr>\n",
       "  </thead>\n",
       "  <tbody>\n",
       "  </tbody>\n",
       "</table>\n",
       "</div>"
      ],
      "text/plain": [
       "Empty DataFrame\n",
       "Columns: [regulation, airspace]\n",
       "Index: []"
      ]
     },
     "execution_count": 42,
     "metadata": {},
     "output_type": "execute_result"
    }
   ],
   "source": [
    "qry = \"\"\"\n",
    "PREFIX : <http://www.datacron-project.eu/datAcron#>\n",
    "PREFIX dul: <http://www.ontologydesignpatterns.org/ont/dul/DUL.owl#>\n",
    "PREFIX rdfs: <http://www.w3.org/2000/01/rdf-schema#>\n",
    "PREFIX myfn: <java:datAcronTester.unipi.gr.sparql_functions.>\n",
    "\n",
    "SELECT ?regulation ?airspace #(myfn:getGeom(?g) as ?WKT) \n",
    "WHERE {\n",
    "  ?regulation      a             ?type .\n",
    "  ?type       rdfs:subClassOf    :FM_Regulation .\n",
    "  ?regulation  dul:hasRegion     ?airspace .\n",
    "  ?airspace    dul:hasPart*      ?b .\n",
    "  ?b              :hasGeometry   ?g\n",
    "} limit 10\n",
    "\n",
    "\"\"\"\n",
    "\n",
    "regs_and_spaces = ts109.query(qry)\n",
    "regs_and_spaces = ts109.clean(regs_and_spaces)\n",
    "regs_and_spaces.head(20)\n"
   ]
  },
  {
   "cell_type": "markdown",
   "metadata": {},
   "source": [
    "Unfortunately, it does not seem to work out!\n",
    "\n",
    "\n",
    "The next query used to misbehave before, but it is now fixed thanks to Giorgos Comment #9"
   ]
  },
  {
   "cell_type": "code",
   "execution_count": 68,
   "metadata": {
    "scrolled": false
   },
   "outputs": [
    {
     "data": {
      "text/html": [
       "<div>\n",
       "<table border=\"1\" class=\"dataframe\">\n",
       "  <thead>\n",
       "    <tr style=\"text-align: right;\">\n",
       "      <th></th>\n",
       "      <th>s</th>\n",
       "      <th>sector</th>\n",
       "      <th>time</th>\n",
       "      <th>refloc</th>\n",
       "      <th>description</th>\n",
       "      <th>start</th>\n",
       "      <th>end</th>\n",
       "      <th>duration</th>\n",
       "    </tr>\n",
       "  </thead>\n",
       "  <tbody>\n",
       "    <tr>\n",
       "      <th>0</th>\n",
       "      <td>EDDFA01_411</td>\n",
       "      <td>Airspace_EDDF_411</td>\n",
       "      <td>intv_1459485600000_1459495200000</td>\n",
       "      <td>Place_Frankfurt_Main_Airport</td>\n",
       "      <td>STRONG WINDS_</td>\n",
       "      <td>2016-04-01T04:40:00</td>\n",
       "      <td>2016-04-01T05:52:57</td>\n",
       "      <td>72</td>\n",
       "    </tr>\n",
       "    <tr>\n",
       "      <th>1</th>\n",
       "      <td>LEBLA01M_411</td>\n",
       "      <td>Airspace_LEBL_411</td>\n",
       "      <td>intv_1459490400000_1459515600000</td>\n",
       "      <td>Place_Barcelona_El_Prat_Airport</td>\n",
       "      <td>CB + STORM_</td>\n",
       "      <td>2016-04-01T06:00:00</td>\n",
       "      <td>2016-04-01T11:41:42</td>\n",
       "      <td>341</td>\n",
       "    </tr>\n",
       "  </tbody>\n",
       "</table>\n",
       "</div>"
      ],
      "text/plain": [
       "              s             sector                              time  \\\n",
       "0   EDDFA01_411  Airspace_EDDF_411  intv_1459485600000_1459495200000   \n",
       "1  LEBLA01M_411  Airspace_LEBL_411  intv_1459490400000_1459515600000   \n",
       "\n",
       "                            refloc    description                start  \\\n",
       "0     Place_Frankfurt_Main_Airport  STRONG WINDS_  2016-04-01T04:40:00   \n",
       "1  Place_Barcelona_El_Prat_Airport    CB + STORM_  2016-04-01T06:00:00   \n",
       "\n",
       "                   end duration  \n",
       "0  2016-04-01T05:52:57       72  \n",
       "1  2016-04-01T11:41:42      341  "
      ]
     },
     "execution_count": 68,
     "metadata": {},
     "output_type": "execute_result"
    }
   ],
   "source": [
    "qry = \"\"\"\n",
    "PREFIX : <http://www.datacron-project.eu/datAcron#>\n",
    "PREFIX dul: <http://www.ontologydesignpatterns.org/ont/dul/DUL.owl#>\n",
    "\n",
    "SELECT ?s ?sector ?time ?refloc ?description ?start ?end ?duration\n",
    "WHERE {\n",
    "  VALUES ?s {:EDDFA01_411 :LEBLA01M_411 :LECVN01M_411 } \n",
    "  ?s dul:hasRegion             ?sector ;\n",
    "        :hasReferenceLocation        ?refloc ;\n",
    "        :RegulationDescription ?description ;\n",
    "     dul:hasTimeInterval       ?time .\n",
    "   \n",
    "   ?time :TimeStart ?start ;\n",
    "        :TimeEnd   ?end ; \n",
    "        :duration ?duration .\n",
    "\n",
    "        \n",
    "}\n",
    "\"\"\" \n",
    "\n",
    "df = ts109.query(qry)\n",
    "df = ts109.clean(df)\n",
    "df.head(20)\n",
    "\n",
    "\n"
   ]
  },
  {
   "cell_type": "code",
   "execution_count": 45,
   "metadata": {
    "scrolled": false
   },
   "outputs": [
    {
     "data": {
      "text/html": [
       "<div>\n",
       "<table border=\"1\" class=\"dataframe\">\n",
       "  <thead>\n",
       "    <tr style=\"text-align: right;\">\n",
       "      <th></th>\n",
       "      <th>p</th>\n",
       "      <th>o</th>\n",
       "    </tr>\n",
       "  </thead>\n",
       "  <tbody>\n",
       "    <tr>\n",
       "      <th>0</th>\n",
       "      <td>type</td>\n",
       "      <td>major_Aerodrome</td>\n",
       "    </tr>\n",
       "    <tr>\n",
       "      <th>1</th>\n",
       "      <td>type</td>\n",
       "      <td>AerodromeClassA</td>\n",
       "    </tr>\n",
       "    <tr>\n",
       "      <th>2</th>\n",
       "      <td>hasGeometry</td>\n",
       "      <td>geom_8.571822869076076_50.05067708952074</td>\n",
       "    </tr>\n",
       "    <tr>\n",
       "      <th>3</th>\n",
       "      <td>partOfCountry</td>\n",
       "      <td>Place_Germany</td>\n",
       "    </tr>\n",
       "    <tr>\n",
       "      <th>4</th>\n",
       "      <td>elevationOfPlace</td>\n",
       "      <td>110.94720000000001</td>\n",
       "    </tr>\n",
       "    <tr>\n",
       "      <th>5</th>\n",
       "      <td>hasCountryCode</td>\n",
       "      <td>DE</td>\n",
       "    </tr>\n",
       "    <tr>\n",
       "      <th>6</th>\n",
       "      <td>hasPlaceName</td>\n",
       "      <td>Flughafen Frankfurt Åm Main, Walldorf, Hesse, ...</td>\n",
       "    </tr>\n",
       "    <tr>\n",
       "      <th>7</th>\n",
       "      <td>seeAlso</td>\n",
       "      <td>http://worldaerodata.com/wad.cgi?airport=EDDF</td>\n",
       "    </tr>\n",
       "    <tr>\n",
       "      <th>8</th>\n",
       "      <td>seeAlso</td>\n",
       "      <td>http://www.airportcity-frankfurt.com/</td>\n",
       "    </tr>\n",
       "    <tr>\n",
       "      <th>9</th>\n",
       "      <td>seeAlso</td>\n",
       "      <td>http://en.wikipedia.org/wiki/Frankfurt_Airport</td>\n",
       "    </tr>\n",
       "  </tbody>\n",
       "</table>\n",
       "</div>"
      ],
      "text/plain": [
       "                  p                                                  o\n",
       "0              type                                    major_Aerodrome\n",
       "1              type                                    AerodromeClassA\n",
       "2       hasGeometry           geom_8.571822869076076_50.05067708952074\n",
       "3     partOfCountry                                      Place_Germany\n",
       "4  elevationOfPlace                                 110.94720000000001\n",
       "5    hasCountryCode                                                 DE\n",
       "6      hasPlaceName  Flughafen Frankfurt Åm Main, Walldorf, Hesse, ...\n",
       "7           seeAlso      http://worldaerodata.com/wad.cgi?airport=EDDF\n",
       "8           seeAlso              http://www.airportcity-frankfurt.com/\n",
       "9           seeAlso     http://en.wikipedia.org/wiki/Frankfurt_Airport"
      ]
     },
     "execution_count": 45,
     "metadata": {},
     "output_type": "execute_result"
    }
   ],
   "source": [
    "qry = \"\"\"\n",
    "PREFIX : <http://www.datacron-project.eu/datAcron#>\n",
    "PREFIX dul: <http://www.ontologydesignpatterns.org/ont/dul/DUL.owl#>\n",
    "\n",
    "SELECT ?p ?o\n",
    "WHERE {\n",
    "  :Place_Frankfurt_Main_Airport ?p ?o\n",
    "\n",
    "        \n",
    "}\n",
    "\"\"\" \n",
    "\n",
    "df = ts109.query(qry)\n",
    "df = ts109.clean(df)\n",
    "df.head(20)\n",
    "\n",
    "\n"
   ]
  },
  {
   "cell_type": "markdown",
   "metadata": {},
   "source": [
    "# Weather Analysis (related to page 5 of tutorial) \n",
    "\n",
    "I think I will need some help here too!\n",
    "\n",
    "Though we have seen that Sectors and Participants cannot be linked with other objects, I can infer from the semantics of the regulations that the airports EDDF and LEBL and the airspace LECB must have had severe wx at that time. \n",
    "\n",
    "Lets try to pull it out.\n",
    "\n",
    "To my knowledge, the wx is written to the nodes, so I need to find the trajectories which have a spatio-temporal intersection with the wx event at the sector. For this, I begin with the basic intersection query from the tutorial, page 5."
   ]
  },
  {
   "cell_type": "code",
   "execution_count": 22,
   "metadata": {
    "scrolled": true
   },
   "outputs": [
    {
     "ename": "EndPointInternalError",
     "evalue": "EndPointInternalError: endpoint returned code 500 and response. \n\nResponse:\nb'Virtuoso S1T00 Error SR171: Transaction timed out\\n\\nSPARQL query:\\ndefine sql:big-data-const 0 \\n#output-format:application/sparql-results+json\\n\\nPREFIX : <http://www.datacron-project.eu/datAcron#>\\nPREFIX dul: <http://www.ontologydesignpatterns.org/ont/dul/DUL.owl#>\\nPREFIX xsd: <http://www.w3.org/2001/XMLSchema#>\\n\\nSELECT ?vessel ?time ?wkt ?speed  \\nWHERE {\\n?s1   a :Node ;\\n        :ofMovingObject ?vessel ;\\n        :hasSpeed ?speed ;\\n     dul:hasConstituent/:TimeStart ?time ;\\n     dul:hasConstituent/:hasWKT ?wkt .\\n\\nFILTER(bif:st_distance(bif:st_geomfromtext (\"POINT(13.139045 44.466133)\"),bif:st_geomfromtext(?wkt))<=5)\\n}\\n'",
     "output_type": "error",
     "traceback": [
      "\u001b[0;31m---------------------------------------------------------------------------\u001b[0m",
      "\u001b[0;31mHTTPError\u001b[0m                                 Traceback (most recent call last)",
      "\u001b[0;32m/home/joerg/anaconda3/envs/datacron1/lib/python3.6/site-packages/SPARQLWrapper/Wrapper.py\u001b[0m in \u001b[0;36m_query\u001b[0;34m(self)\u001b[0m\n\u001b[1;32m    570\u001b[0m         \u001b[0;32mtry\u001b[0m\u001b[0;34m:\u001b[0m\u001b[0;34m\u001b[0m\u001b[0m\n\u001b[0;32m--> 571\u001b[0;31m             \u001b[0mresponse\u001b[0m \u001b[0;34m=\u001b[0m \u001b[0murlopener\u001b[0m\u001b[0;34m(\u001b[0m\u001b[0mrequest\u001b[0m\u001b[0;34m)\u001b[0m\u001b[0;34m\u001b[0m\u001b[0m\n\u001b[0m\u001b[1;32m    572\u001b[0m             \u001b[0;32mreturn\u001b[0m \u001b[0mresponse\u001b[0m\u001b[0;34m,\u001b[0m \u001b[0mself\u001b[0m\u001b[0;34m.\u001b[0m\u001b[0mreturnFormat\u001b[0m\u001b[0;34m\u001b[0m\u001b[0m\n",
      "\u001b[0;32m/home/joerg/anaconda3/envs/datacron1/lib/python3.6/urllib/request.py\u001b[0m in \u001b[0;36murlopen\u001b[0;34m(url, data, timeout, cafile, capath, cadefault, context)\u001b[0m\n\u001b[1;32m    222\u001b[0m         \u001b[0mopener\u001b[0m \u001b[0;34m=\u001b[0m \u001b[0m_opener\u001b[0m\u001b[0;34m\u001b[0m\u001b[0m\n\u001b[0;32m--> 223\u001b[0;31m     \u001b[0;32mreturn\u001b[0m \u001b[0mopener\u001b[0m\u001b[0;34m.\u001b[0m\u001b[0mopen\u001b[0m\u001b[0;34m(\u001b[0m\u001b[0murl\u001b[0m\u001b[0;34m,\u001b[0m \u001b[0mdata\u001b[0m\u001b[0;34m,\u001b[0m \u001b[0mtimeout\u001b[0m\u001b[0;34m)\u001b[0m\u001b[0;34m\u001b[0m\u001b[0m\n\u001b[0m\u001b[1;32m    224\u001b[0m \u001b[0;34m\u001b[0m\u001b[0m\n",
      "\u001b[0;32m/home/joerg/anaconda3/envs/datacron1/lib/python3.6/urllib/request.py\u001b[0m in \u001b[0;36mopen\u001b[0;34m(self, fullurl, data, timeout)\u001b[0m\n\u001b[1;32m    531\u001b[0m             \u001b[0mmeth\u001b[0m \u001b[0;34m=\u001b[0m \u001b[0mgetattr\u001b[0m\u001b[0;34m(\u001b[0m\u001b[0mprocessor\u001b[0m\u001b[0;34m,\u001b[0m \u001b[0mmeth_name\u001b[0m\u001b[0;34m)\u001b[0m\u001b[0;34m\u001b[0m\u001b[0m\n\u001b[0;32m--> 532\u001b[0;31m             \u001b[0mresponse\u001b[0m \u001b[0;34m=\u001b[0m \u001b[0mmeth\u001b[0m\u001b[0;34m(\u001b[0m\u001b[0mreq\u001b[0m\u001b[0;34m,\u001b[0m \u001b[0mresponse\u001b[0m\u001b[0;34m)\u001b[0m\u001b[0;34m\u001b[0m\u001b[0m\n\u001b[0m\u001b[1;32m    533\u001b[0m \u001b[0;34m\u001b[0m\u001b[0m\n",
      "\u001b[0;32m/home/joerg/anaconda3/envs/datacron1/lib/python3.6/urllib/request.py\u001b[0m in \u001b[0;36mhttp_response\u001b[0;34m(self, request, response)\u001b[0m\n\u001b[1;32m    641\u001b[0m             response = self.parent.error(\n\u001b[0;32m--> 642\u001b[0;31m                 'http', request, response, code, msg, hdrs)\n\u001b[0m\u001b[1;32m    643\u001b[0m \u001b[0;34m\u001b[0m\u001b[0m\n",
      "\u001b[0;32m/home/joerg/anaconda3/envs/datacron1/lib/python3.6/urllib/request.py\u001b[0m in \u001b[0;36merror\u001b[0;34m(self, proto, *args)\u001b[0m\n\u001b[1;32m    569\u001b[0m             \u001b[0margs\u001b[0m \u001b[0;34m=\u001b[0m \u001b[0;34m(\u001b[0m\u001b[0mdict\u001b[0m\u001b[0;34m,\u001b[0m \u001b[0;34m'default'\u001b[0m\u001b[0;34m,\u001b[0m \u001b[0;34m'http_error_default'\u001b[0m\u001b[0;34m)\u001b[0m \u001b[0;34m+\u001b[0m \u001b[0morig_args\u001b[0m\u001b[0;34m\u001b[0m\u001b[0m\n\u001b[0;32m--> 570\u001b[0;31m             \u001b[0;32mreturn\u001b[0m \u001b[0mself\u001b[0m\u001b[0;34m.\u001b[0m\u001b[0m_call_chain\u001b[0m\u001b[0;34m(\u001b[0m\u001b[0;34m*\u001b[0m\u001b[0margs\u001b[0m\u001b[0;34m)\u001b[0m\u001b[0;34m\u001b[0m\u001b[0m\n\u001b[0m\u001b[1;32m    571\u001b[0m \u001b[0;34m\u001b[0m\u001b[0m\n",
      "\u001b[0;32m/home/joerg/anaconda3/envs/datacron1/lib/python3.6/urllib/request.py\u001b[0m in \u001b[0;36m_call_chain\u001b[0;34m(self, chain, kind, meth_name, *args)\u001b[0m\n\u001b[1;32m    503\u001b[0m             \u001b[0mfunc\u001b[0m \u001b[0;34m=\u001b[0m \u001b[0mgetattr\u001b[0m\u001b[0;34m(\u001b[0m\u001b[0mhandler\u001b[0m\u001b[0;34m,\u001b[0m \u001b[0mmeth_name\u001b[0m\u001b[0;34m)\u001b[0m\u001b[0;34m\u001b[0m\u001b[0m\n\u001b[0;32m--> 504\u001b[0;31m             \u001b[0mresult\u001b[0m \u001b[0;34m=\u001b[0m \u001b[0mfunc\u001b[0m\u001b[0;34m(\u001b[0m\u001b[0;34m*\u001b[0m\u001b[0margs\u001b[0m\u001b[0;34m)\u001b[0m\u001b[0;34m\u001b[0m\u001b[0m\n\u001b[0m\u001b[1;32m    505\u001b[0m             \u001b[0;32mif\u001b[0m \u001b[0mresult\u001b[0m \u001b[0;32mis\u001b[0m \u001b[0;32mnot\u001b[0m \u001b[0;32mNone\u001b[0m\u001b[0;34m:\u001b[0m\u001b[0;34m\u001b[0m\u001b[0m\n",
      "\u001b[0;32m/home/joerg/anaconda3/envs/datacron1/lib/python3.6/urllib/request.py\u001b[0m in \u001b[0;36mhttp_error_default\u001b[0;34m(self, req, fp, code, msg, hdrs)\u001b[0m\n\u001b[1;32m    649\u001b[0m     \u001b[0;32mdef\u001b[0m \u001b[0mhttp_error_default\u001b[0m\u001b[0;34m(\u001b[0m\u001b[0mself\u001b[0m\u001b[0;34m,\u001b[0m \u001b[0mreq\u001b[0m\u001b[0;34m,\u001b[0m \u001b[0mfp\u001b[0m\u001b[0;34m,\u001b[0m \u001b[0mcode\u001b[0m\u001b[0;34m,\u001b[0m \u001b[0mmsg\u001b[0m\u001b[0;34m,\u001b[0m \u001b[0mhdrs\u001b[0m\u001b[0;34m)\u001b[0m\u001b[0;34m:\u001b[0m\u001b[0;34m\u001b[0m\u001b[0m\n\u001b[0;32m--> 650\u001b[0;31m         \u001b[0;32mraise\u001b[0m \u001b[0mHTTPError\u001b[0m\u001b[0;34m(\u001b[0m\u001b[0mreq\u001b[0m\u001b[0;34m.\u001b[0m\u001b[0mfull_url\u001b[0m\u001b[0;34m,\u001b[0m \u001b[0mcode\u001b[0m\u001b[0;34m,\u001b[0m \u001b[0mmsg\u001b[0m\u001b[0;34m,\u001b[0m \u001b[0mhdrs\u001b[0m\u001b[0;34m,\u001b[0m \u001b[0mfp\u001b[0m\u001b[0;34m)\u001b[0m\u001b[0;34m\u001b[0m\u001b[0m\n\u001b[0m\u001b[1;32m    651\u001b[0m \u001b[0;34m\u001b[0m\u001b[0m\n",
      "\u001b[0;31mHTTPError\u001b[0m: HTTP Error 500: SPARQL Request Failed",
      "\nDuring handling of the above exception, another exception occurred:\n",
      "\u001b[0;31mEndPointInternalError\u001b[0m                     Traceback (most recent call last)",
      "\u001b[0;32m<ipython-input-22-4faba6723360>\u001b[0m in \u001b[0;36m<module>\u001b[0;34m()\u001b[0m\n\u001b[1;32m     18\u001b[0m \"\"\"\n\u001b[1;32m     19\u001b[0m \u001b[0;34m\u001b[0m\u001b[0m\n\u001b[0;32m---> 20\u001b[0;31m \u001b[0mdf\u001b[0m \u001b[0;34m=\u001b[0m \u001b[0mts107\u001b[0m\u001b[0;34m.\u001b[0m\u001b[0mquery\u001b[0m\u001b[0;34m(\u001b[0m\u001b[0mqry\u001b[0m\u001b[0;34m)\u001b[0m\u001b[0;34m\u001b[0m\u001b[0m\n\u001b[0m\u001b[1;32m     21\u001b[0m \u001b[0mdf\u001b[0m \u001b[0;34m=\u001b[0m \u001b[0mts107\u001b[0m\u001b[0;34m.\u001b[0m\u001b[0mclean\u001b[0m\u001b[0;34m(\u001b[0m\u001b[0mdf\u001b[0m\u001b[0;34m)\u001b[0m\u001b[0;34m\u001b[0m\u001b[0m\n\u001b[1;32m     22\u001b[0m \u001b[0mdf\u001b[0m\u001b[0;34m.\u001b[0m\u001b[0mhead\u001b[0m\u001b[0;34m(\u001b[0m\u001b[0;36m20\u001b[0m\u001b[0;34m)\u001b[0m\u001b[0;34m\u001b[0m\u001b[0m\n",
      "\u001b[0;32m/home/joerg/jsnotes/1_datAcron/datacron_connector.py\u001b[0m in \u001b[0;36mquery\u001b[0;34m(self, query)\u001b[0m\n\u001b[1;32m     46\u001b[0m \u001b[0;34m\u001b[0m\u001b[0m\n\u001b[1;32m     47\u001b[0m \u001b[0;34m\u001b[0m\u001b[0m\n\u001b[0;32m---> 48\u001b[0;31m         \u001b[0mresult\u001b[0m \u001b[0;34m=\u001b[0m \u001b[0mself\u001b[0m\u001b[0;34m.\u001b[0m\u001b[0msparql\u001b[0m\u001b[0;34m.\u001b[0m\u001b[0mquery\u001b[0m\u001b[0;34m(\u001b[0m\u001b[0;34m)\u001b[0m\u001b[0;34m.\u001b[0m\u001b[0mconvert\u001b[0m\u001b[0;34m(\u001b[0m\u001b[0;34m)\u001b[0m\u001b[0;34m\u001b[0m\u001b[0m\n\u001b[0m\u001b[1;32m     49\u001b[0m \u001b[0;34m\u001b[0m\u001b[0m\n\u001b[1;32m     50\u001b[0m         \u001b[0;31m#clean up the column mess (thanks to David Knodt)\u001b[0m\u001b[0;34m\u001b[0m\u001b[0;34m\u001b[0m\u001b[0m\n",
      "\u001b[0;32m/home/joerg/anaconda3/envs/datacron1/lib/python3.6/site-packages/SPARQLWrapper/Wrapper.py\u001b[0m in \u001b[0;36mquery\u001b[0;34m(self)\u001b[0m\n\u001b[1;32m    599\u001b[0m             \u001b[0;34m@\u001b[0m\u001b[0mrtype\u001b[0m\u001b[0;34m:\u001b[0m \u001b[0mL\u001b[0m\u001b[0;34m{\u001b[0m\u001b[0mQueryResult\u001b[0m\u001b[0;34m}\u001b[0m \u001b[0minstance\u001b[0m\u001b[0;34m\u001b[0m\u001b[0m\n\u001b[1;32m    600\u001b[0m         \"\"\"\n\u001b[0;32m--> 601\u001b[0;31m         \u001b[0;32mreturn\u001b[0m \u001b[0mQueryResult\u001b[0m\u001b[0;34m(\u001b[0m\u001b[0mself\u001b[0m\u001b[0;34m.\u001b[0m\u001b[0m_query\u001b[0m\u001b[0;34m(\u001b[0m\u001b[0;34m)\u001b[0m\u001b[0;34m)\u001b[0m\u001b[0;34m\u001b[0m\u001b[0m\n\u001b[0m\u001b[1;32m    602\u001b[0m \u001b[0;34m\u001b[0m\u001b[0m\n\u001b[1;32m    603\u001b[0m     \u001b[0;32mdef\u001b[0m \u001b[0mqueryAndConvert\u001b[0m\u001b[0;34m(\u001b[0m\u001b[0mself\u001b[0m\u001b[0;34m)\u001b[0m\u001b[0;34m:\u001b[0m\u001b[0;34m\u001b[0m\u001b[0m\n",
      "\u001b[0;32m/home/joerg/anaconda3/envs/datacron1/lib/python3.6/site-packages/SPARQLWrapper/Wrapper.py\u001b[0m in \u001b[0;36m_query\u001b[0;34m(self)\u001b[0m\n\u001b[1;32m    577\u001b[0m                 \u001b[0;32mraise\u001b[0m \u001b[0mEndPointNotFound\u001b[0m\u001b[0;34m(\u001b[0m\u001b[0me\u001b[0m\u001b[0;34m.\u001b[0m\u001b[0mread\u001b[0m\u001b[0;34m(\u001b[0m\u001b[0;34m)\u001b[0m\u001b[0;34m)\u001b[0m\u001b[0;34m\u001b[0m\u001b[0m\n\u001b[1;32m    578\u001b[0m             \u001b[0;32melif\u001b[0m \u001b[0me\u001b[0m\u001b[0;34m.\u001b[0m\u001b[0mcode\u001b[0m \u001b[0;34m==\u001b[0m \u001b[0;36m500\u001b[0m\u001b[0;34m:\u001b[0m\u001b[0;34m\u001b[0m\u001b[0m\n\u001b[0;32m--> 579\u001b[0;31m                 \u001b[0;32mraise\u001b[0m \u001b[0mEndPointInternalError\u001b[0m\u001b[0;34m(\u001b[0m\u001b[0me\u001b[0m\u001b[0;34m.\u001b[0m\u001b[0mread\u001b[0m\u001b[0;34m(\u001b[0m\u001b[0;34m)\u001b[0m\u001b[0;34m)\u001b[0m\u001b[0;34m\u001b[0m\u001b[0m\n\u001b[0m\u001b[1;32m    580\u001b[0m             \u001b[0;32melse\u001b[0m\u001b[0;34m:\u001b[0m\u001b[0;34m\u001b[0m\u001b[0m\n\u001b[1;32m    581\u001b[0m                 \u001b[0;32mraise\u001b[0m \u001b[0me\u001b[0m\u001b[0;34m\u001b[0m\u001b[0m\n",
      "\u001b[0;31mEndPointInternalError\u001b[0m: EndPointInternalError: endpoint returned code 500 and response. \n\nResponse:\nb'Virtuoso S1T00 Error SR171: Transaction timed out\\n\\nSPARQL query:\\ndefine sql:big-data-const 0 \\n#output-format:application/sparql-results+json\\n\\nPREFIX : <http://www.datacron-project.eu/datAcron#>\\nPREFIX dul: <http://www.ontologydesignpatterns.org/ont/dul/DUL.owl#>\\nPREFIX xsd: <http://www.w3.org/2001/XMLSchema#>\\n\\nSELECT ?vessel ?time ?wkt ?speed  \\nWHERE {\\n?s1   a :Node ;\\n        :ofMovingObject ?vessel ;\\n        :hasSpeed ?speed ;\\n     dul:hasConstituent/:TimeStart ?time ;\\n     dul:hasConstituent/:hasWKT ?wkt .\\n\\nFILTER(bif:st_distance(bif:st_geomfromtext (\"POINT(13.139045 44.466133)\"),bif:st_geomfromtext(?wkt))<=5)\\n}\\n'"
     ]
    }
   ],
   "source": [
    "# PREFIX bif: <java:datAcronTester.unipi.gr.sparql_functions.>   <--- only to be used in 109\n",
    "\n",
    "qry = \"\"\"\n",
    "PREFIX : <http://www.datacron-project.eu/datAcron#>\n",
    "PREFIX dul: <http://www.ontologydesignpatterns.org/ont/dul/DUL.owl#>\n",
    "PREFIX xsd: <http://www.w3.org/2001/XMLSchema#>\n",
    "\n",
    "SELECT ?vessel ?time ?wkt ?speed  \n",
    "WHERE {\n",
    "?s1   a :Node ;\n",
    "        :ofMovingObject ?vessel ;\n",
    "        :hasSpeed ?speed ;\n",
    "     dul:hasConstituent/:TimeStart ?time ;\n",
    "     dul:hasConstituent/:hasWKT ?wkt .\n",
    "\n",
    "FILTER(bif:st_distance(bif:st_geomfromtext (\"POINT(13.139045 44.466133)\"),bif:st_geomfromtext(?wkt))<=5)\n",
    "}\n",
    "\"\"\"\n",
    "\n",
    "df = ts107.query(qry)\n",
    "df = ts107.clean(df)\n",
    "df.head(20)\n",
    "\n",
    "\n"
   ]
  },
  {
   "cell_type": "markdown",
   "metadata": {},
   "source": [
    "PROBLEMS\n",
    " - I get a timeout on the 107 store\n",
    " - I get zero results on the 109 store\n",
    " - note: on the 107 store, the bif: prefix must not be used, on the 109 store, it must be used. Therefore, you cannot query both stores with the same string atm.\n",
    " \n",
    " \n",
    "Back to EDDF and LEBL and LECB. Our goal is to get some weather for these places at regulation time. \n",
    "\n",
    "As a first step, we get the geometries of the _reference locations_."
   ]
  },
  {
   "cell_type": "code",
   "execution_count": 23,
   "metadata": {},
   "outputs": [
    {
     "data": {
      "text/html": [
       "<div>\n",
       "<table border=\"1\" class=\"dataframe\">\n",
       "  <thead>\n",
       "    <tr style=\"text-align: right;\">\n",
       "      <th></th>\n",
       "      <th>airport</th>\n",
       "      <th>iata</th>\n",
       "      <th>placename</th>\n",
       "      <th>geo</th>\n",
       "      <th>o</th>\n",
       "    </tr>\n",
       "  </thead>\n",
       "  <tbody>\n",
       "    <tr>\n",
       "      <th>0</th>\n",
       "      <td>LEBL</td>\n",
       "      <td>BCN</td>\n",
       "      <td>BARCELONA/EL PRAT</td>\n",
       "      <td>geom_2_0783333778381348_41_29694366455078</td>\n",
       "      <td>POINT (2.0783333778381348 41.29694366455078)</td>\n",
       "    </tr>\n",
       "    <tr>\n",
       "      <th>1</th>\n",
       "      <td>EDDF</td>\n",
       "      <td>FRA</td>\n",
       "      <td>FRANKFURT MAIN</td>\n",
       "      <td>geom_8_570555686950684_50_03333282470703</td>\n",
       "      <td>POINT (8.570555686950684 50.03333282470703)</td>\n",
       "    </tr>\n",
       "  </tbody>\n",
       "</table>\n",
       "</div>"
      ],
      "text/plain": [
       "  airport iata          placename                                        geo  \\\n",
       "0    LEBL  BCN  BARCELONA/EL PRAT  geom_2_0783333778381348_41_29694366455078   \n",
       "1    EDDF  FRA     FRANKFURT MAIN   geom_8_570555686950684_50_03333282470703   \n",
       "\n",
       "                                              o  \n",
       "0  POINT (2.0783333778381348 41.29694366455078)  \n",
       "1   POINT (8.570555686950684 50.03333282470703)  "
      ]
     },
     "execution_count": 23,
     "metadata": {},
     "output_type": "execute_result"
    }
   ],
   "source": [
    "qry = \"\"\"\n",
    "PREFIX : <http://www.datacron-project.eu/datAcron#>\n",
    "PREFIX dul: <http://www.ontologydesignpatterns.org/ont/dul/DUL.owl#>\n",
    "\n",
    "SELECT DISTINCT ?airport ?iata ?placename ?geo ?o\n",
    "WHERE {\n",
    "  VALUES ?airport {'EDDF' 'LEBL' 'LECB'}\n",
    "  ?s :hasICAOcode ?airport ;\n",
    "     :hasIATAcode ?iata ;\n",
    "     :hasPlaceName ?placename ;\n",
    "     :hasGeometry ?geo .\n",
    "  ?geo :hasMBR_WKT ?o .\n",
    "     \n",
    "}\n",
    "\"\"\"\n",
    "\n",
    "reflocs_manually = ts107.query(qry)\n",
    "reflocs_manually = ts107.clean(reflocs_manually)\n",
    "reflocs_manually.head(20)"
   ]
  },
  {
   "cell_type": "markdown",
   "metadata": {},
   "source": [
    "INFO\n",
    "\n",
    "For the above query, once again, the 109 yields no results.\n",
    "\n",
    "\n",
    "Next step: lets get time and position of Frankfurt airport and try to find some spatio-temporal intersecting trajectories."
   ]
  },
  {
   "cell_type": "code",
   "execution_count": 24,
   "metadata": {
    "scrolled": true
   },
   "outputs": [
    {
     "name": "stdout",
     "output_type": "stream",
     "text": [
      "2016-04-01T04:40:00\n",
      "POINT (2.0783333778381348 41.29694366455078)\n"
     ]
    }
   ],
   "source": [
    "time = reguls.iloc[0]['start']     #get the time of EDDF regulation\n",
    "rpoint = reflocs_manually.iloc[0]['o'] #get the coordinates of Frankfurt airport (manually)\n",
    "\n",
    "print(time)\n",
    "print(rpoint)"
   ]
  },
  {
   "cell_type": "markdown",
   "metadata": {},
   "source": [
    "In the next query, I have to enter the times manually, because (as we have seen) the end time of a regulation is not available in the system. AFAIK, the nodes themselves only have start times, as they only represent a point in time."
   ]
  },
  {
   "cell_type": "code",
   "execution_count": 28,
   "metadata": {
    "scrolled": true
   },
   "outputs": [
    {
     "ename": "EndPointInternalError",
     "evalue": "EndPointInternalError: endpoint returned code 500 and response. \n\nResponse:\nb'Virtuoso S1T00 Error SR171: Transaction timed out\\n\\nSPARQL query:\\ndefine sql:big-data-const 0 \\n#output-format:application/sparql-results+json\\n\\nPREFIX : <http://www.datacron-project.eu/datAcron#>\\nPREFIX dul: <http://www.ontologydesignpatterns.org/ont/dul/DUL.owl#>\\nPREFIX xsd: <http://www.w3.org/2001/XMLSchema#>\\n\\nSELECT ?vessel ?time ?wkt ?speed \\nWHERE {\\n    ?s1     a              :Node ;\\n           :ofMovingObject ?vessel ;\\n           :hasSpeed       ?speed ;\\n        dul:hasConstituent/:TimeStart ?time ;\\n        dul:hasConstituent/:hasWKT ?wkt .\\n        \\n    FILTER(bif:st_distance( bif:st_geomfromtext (\\'POINT (2.0783333778381348 41.29694366455078)\\'), bif:st_geomfromtext(?wkt)) <= 5 &&\\n    xsd:dateTime(substr(?time,1,19))>xsd:dateTime(\"2016-04-01 04:40:00\") && \\n    xsd:dateTime(substr(?time,1,19))<xsd:dateTime(\"2016-04-01 06:52:00\"))\\n}\\n'",
     "output_type": "error",
     "traceback": [
      "\u001b[0;31m---------------------------------------------------------------------------\u001b[0m",
      "\u001b[0;31mHTTPError\u001b[0m                                 Traceback (most recent call last)",
      "\u001b[0;32m/home/joerg/anaconda3/envs/datacron1/lib/python3.6/site-packages/SPARQLWrapper/Wrapper.py\u001b[0m in \u001b[0;36m_query\u001b[0;34m(self)\u001b[0m\n\u001b[1;32m    570\u001b[0m         \u001b[0;32mtry\u001b[0m\u001b[0;34m:\u001b[0m\u001b[0;34m\u001b[0m\u001b[0m\n\u001b[0;32m--> 571\u001b[0;31m             \u001b[0mresponse\u001b[0m \u001b[0;34m=\u001b[0m \u001b[0murlopener\u001b[0m\u001b[0;34m(\u001b[0m\u001b[0mrequest\u001b[0m\u001b[0;34m)\u001b[0m\u001b[0;34m\u001b[0m\u001b[0m\n\u001b[0m\u001b[1;32m    572\u001b[0m             \u001b[0;32mreturn\u001b[0m \u001b[0mresponse\u001b[0m\u001b[0;34m,\u001b[0m \u001b[0mself\u001b[0m\u001b[0;34m.\u001b[0m\u001b[0mreturnFormat\u001b[0m\u001b[0;34m\u001b[0m\u001b[0m\n",
      "\u001b[0;32m/home/joerg/anaconda3/envs/datacron1/lib/python3.6/urllib/request.py\u001b[0m in \u001b[0;36murlopen\u001b[0;34m(url, data, timeout, cafile, capath, cadefault, context)\u001b[0m\n\u001b[1;32m    222\u001b[0m         \u001b[0mopener\u001b[0m \u001b[0;34m=\u001b[0m \u001b[0m_opener\u001b[0m\u001b[0;34m\u001b[0m\u001b[0m\n\u001b[0;32m--> 223\u001b[0;31m     \u001b[0;32mreturn\u001b[0m \u001b[0mopener\u001b[0m\u001b[0;34m.\u001b[0m\u001b[0mopen\u001b[0m\u001b[0;34m(\u001b[0m\u001b[0murl\u001b[0m\u001b[0;34m,\u001b[0m \u001b[0mdata\u001b[0m\u001b[0;34m,\u001b[0m \u001b[0mtimeout\u001b[0m\u001b[0;34m)\u001b[0m\u001b[0;34m\u001b[0m\u001b[0m\n\u001b[0m\u001b[1;32m    224\u001b[0m \u001b[0;34m\u001b[0m\u001b[0m\n",
      "\u001b[0;32m/home/joerg/anaconda3/envs/datacron1/lib/python3.6/urllib/request.py\u001b[0m in \u001b[0;36mopen\u001b[0;34m(self, fullurl, data, timeout)\u001b[0m\n\u001b[1;32m    531\u001b[0m             \u001b[0mmeth\u001b[0m \u001b[0;34m=\u001b[0m \u001b[0mgetattr\u001b[0m\u001b[0;34m(\u001b[0m\u001b[0mprocessor\u001b[0m\u001b[0;34m,\u001b[0m \u001b[0mmeth_name\u001b[0m\u001b[0;34m)\u001b[0m\u001b[0;34m\u001b[0m\u001b[0m\n\u001b[0;32m--> 532\u001b[0;31m             \u001b[0mresponse\u001b[0m \u001b[0;34m=\u001b[0m \u001b[0mmeth\u001b[0m\u001b[0;34m(\u001b[0m\u001b[0mreq\u001b[0m\u001b[0;34m,\u001b[0m \u001b[0mresponse\u001b[0m\u001b[0;34m)\u001b[0m\u001b[0;34m\u001b[0m\u001b[0m\n\u001b[0m\u001b[1;32m    533\u001b[0m \u001b[0;34m\u001b[0m\u001b[0m\n",
      "\u001b[0;32m/home/joerg/anaconda3/envs/datacron1/lib/python3.6/urllib/request.py\u001b[0m in \u001b[0;36mhttp_response\u001b[0;34m(self, request, response)\u001b[0m\n\u001b[1;32m    641\u001b[0m             response = self.parent.error(\n\u001b[0;32m--> 642\u001b[0;31m                 'http', request, response, code, msg, hdrs)\n\u001b[0m\u001b[1;32m    643\u001b[0m \u001b[0;34m\u001b[0m\u001b[0m\n",
      "\u001b[0;32m/home/joerg/anaconda3/envs/datacron1/lib/python3.6/urllib/request.py\u001b[0m in \u001b[0;36merror\u001b[0;34m(self, proto, *args)\u001b[0m\n\u001b[1;32m    569\u001b[0m             \u001b[0margs\u001b[0m \u001b[0;34m=\u001b[0m \u001b[0;34m(\u001b[0m\u001b[0mdict\u001b[0m\u001b[0;34m,\u001b[0m \u001b[0;34m'default'\u001b[0m\u001b[0;34m,\u001b[0m \u001b[0;34m'http_error_default'\u001b[0m\u001b[0;34m)\u001b[0m \u001b[0;34m+\u001b[0m \u001b[0morig_args\u001b[0m\u001b[0;34m\u001b[0m\u001b[0m\n\u001b[0;32m--> 570\u001b[0;31m             \u001b[0;32mreturn\u001b[0m \u001b[0mself\u001b[0m\u001b[0;34m.\u001b[0m\u001b[0m_call_chain\u001b[0m\u001b[0;34m(\u001b[0m\u001b[0;34m*\u001b[0m\u001b[0margs\u001b[0m\u001b[0;34m)\u001b[0m\u001b[0;34m\u001b[0m\u001b[0m\n\u001b[0m\u001b[1;32m    571\u001b[0m \u001b[0;34m\u001b[0m\u001b[0m\n",
      "\u001b[0;32m/home/joerg/anaconda3/envs/datacron1/lib/python3.6/urllib/request.py\u001b[0m in \u001b[0;36m_call_chain\u001b[0;34m(self, chain, kind, meth_name, *args)\u001b[0m\n\u001b[1;32m    503\u001b[0m             \u001b[0mfunc\u001b[0m \u001b[0;34m=\u001b[0m \u001b[0mgetattr\u001b[0m\u001b[0;34m(\u001b[0m\u001b[0mhandler\u001b[0m\u001b[0;34m,\u001b[0m \u001b[0mmeth_name\u001b[0m\u001b[0;34m)\u001b[0m\u001b[0;34m\u001b[0m\u001b[0m\n\u001b[0;32m--> 504\u001b[0;31m             \u001b[0mresult\u001b[0m \u001b[0;34m=\u001b[0m \u001b[0mfunc\u001b[0m\u001b[0;34m(\u001b[0m\u001b[0;34m*\u001b[0m\u001b[0margs\u001b[0m\u001b[0;34m)\u001b[0m\u001b[0;34m\u001b[0m\u001b[0m\n\u001b[0m\u001b[1;32m    505\u001b[0m             \u001b[0;32mif\u001b[0m \u001b[0mresult\u001b[0m \u001b[0;32mis\u001b[0m \u001b[0;32mnot\u001b[0m \u001b[0;32mNone\u001b[0m\u001b[0;34m:\u001b[0m\u001b[0;34m\u001b[0m\u001b[0m\n",
      "\u001b[0;32m/home/joerg/anaconda3/envs/datacron1/lib/python3.6/urllib/request.py\u001b[0m in \u001b[0;36mhttp_error_default\u001b[0;34m(self, req, fp, code, msg, hdrs)\u001b[0m\n\u001b[1;32m    649\u001b[0m     \u001b[0;32mdef\u001b[0m \u001b[0mhttp_error_default\u001b[0m\u001b[0;34m(\u001b[0m\u001b[0mself\u001b[0m\u001b[0;34m,\u001b[0m \u001b[0mreq\u001b[0m\u001b[0;34m,\u001b[0m \u001b[0mfp\u001b[0m\u001b[0;34m,\u001b[0m \u001b[0mcode\u001b[0m\u001b[0;34m,\u001b[0m \u001b[0mmsg\u001b[0m\u001b[0;34m,\u001b[0m \u001b[0mhdrs\u001b[0m\u001b[0;34m)\u001b[0m\u001b[0;34m:\u001b[0m\u001b[0;34m\u001b[0m\u001b[0m\n\u001b[0;32m--> 650\u001b[0;31m         \u001b[0;32mraise\u001b[0m \u001b[0mHTTPError\u001b[0m\u001b[0;34m(\u001b[0m\u001b[0mreq\u001b[0m\u001b[0;34m.\u001b[0m\u001b[0mfull_url\u001b[0m\u001b[0;34m,\u001b[0m \u001b[0mcode\u001b[0m\u001b[0;34m,\u001b[0m \u001b[0mmsg\u001b[0m\u001b[0;34m,\u001b[0m \u001b[0mhdrs\u001b[0m\u001b[0;34m,\u001b[0m \u001b[0mfp\u001b[0m\u001b[0;34m)\u001b[0m\u001b[0;34m\u001b[0m\u001b[0m\n\u001b[0m\u001b[1;32m    651\u001b[0m \u001b[0;34m\u001b[0m\u001b[0m\n",
      "\u001b[0;31mHTTPError\u001b[0m: HTTP Error 500: SPARQL Request Failed",
      "\nDuring handling of the above exception, another exception occurred:\n",
      "\u001b[0;31mEndPointInternalError\u001b[0m                     Traceback (most recent call last)",
      "\u001b[0;32m<ipython-input-28-96c9f257e171>\u001b[0m in \u001b[0;36m<module>\u001b[0;34m()\u001b[0m\n\u001b[1;32m     19\u001b[0m \"\"\"\n\u001b[1;32m     20\u001b[0m \u001b[0;34m\u001b[0m\u001b[0m\n\u001b[0;32m---> 21\u001b[0;31m \u001b[0mdf\u001b[0m \u001b[0;34m=\u001b[0m \u001b[0mts107\u001b[0m\u001b[0;34m.\u001b[0m\u001b[0mquery\u001b[0m\u001b[0;34m(\u001b[0m\u001b[0mqry\u001b[0m\u001b[0;34m)\u001b[0m\u001b[0;34m\u001b[0m\u001b[0m\n\u001b[0m\u001b[1;32m     22\u001b[0m \u001b[0mdf\u001b[0m \u001b[0;34m=\u001b[0m \u001b[0mts107\u001b[0m\u001b[0;34m.\u001b[0m\u001b[0mclean\u001b[0m\u001b[0;34m(\u001b[0m\u001b[0mdf\u001b[0m\u001b[0;34m)\u001b[0m\u001b[0;34m\u001b[0m\u001b[0m\n\u001b[1;32m     23\u001b[0m \u001b[0mdf\u001b[0m\u001b[0;34m.\u001b[0m\u001b[0mhead\u001b[0m\u001b[0;34m(\u001b[0m\u001b[0;36m20\u001b[0m\u001b[0;34m)\u001b[0m\u001b[0;34m\u001b[0m\u001b[0m\n",
      "\u001b[0;32m/home/joerg/jsnotes/1_datAcron/datacron_connector.py\u001b[0m in \u001b[0;36mquery\u001b[0;34m(self, query)\u001b[0m\n\u001b[1;32m     46\u001b[0m \u001b[0;34m\u001b[0m\u001b[0m\n\u001b[1;32m     47\u001b[0m \u001b[0;34m\u001b[0m\u001b[0m\n\u001b[0;32m---> 48\u001b[0;31m         \u001b[0mresult\u001b[0m \u001b[0;34m=\u001b[0m \u001b[0mself\u001b[0m\u001b[0;34m.\u001b[0m\u001b[0msparql\u001b[0m\u001b[0;34m.\u001b[0m\u001b[0mquery\u001b[0m\u001b[0;34m(\u001b[0m\u001b[0;34m)\u001b[0m\u001b[0;34m.\u001b[0m\u001b[0mconvert\u001b[0m\u001b[0;34m(\u001b[0m\u001b[0;34m)\u001b[0m\u001b[0;34m\u001b[0m\u001b[0m\n\u001b[0m\u001b[1;32m     49\u001b[0m \u001b[0;34m\u001b[0m\u001b[0m\n\u001b[1;32m     50\u001b[0m         \u001b[0;31m#clean up the column mess (thanks to David Knodt)\u001b[0m\u001b[0;34m\u001b[0m\u001b[0;34m\u001b[0m\u001b[0m\n",
      "\u001b[0;32m/home/joerg/anaconda3/envs/datacron1/lib/python3.6/site-packages/SPARQLWrapper/Wrapper.py\u001b[0m in \u001b[0;36mquery\u001b[0;34m(self)\u001b[0m\n\u001b[1;32m    599\u001b[0m             \u001b[0;34m@\u001b[0m\u001b[0mrtype\u001b[0m\u001b[0;34m:\u001b[0m \u001b[0mL\u001b[0m\u001b[0;34m{\u001b[0m\u001b[0mQueryResult\u001b[0m\u001b[0;34m}\u001b[0m \u001b[0minstance\u001b[0m\u001b[0;34m\u001b[0m\u001b[0m\n\u001b[1;32m    600\u001b[0m         \"\"\"\n\u001b[0;32m--> 601\u001b[0;31m         \u001b[0;32mreturn\u001b[0m \u001b[0mQueryResult\u001b[0m\u001b[0;34m(\u001b[0m\u001b[0mself\u001b[0m\u001b[0;34m.\u001b[0m\u001b[0m_query\u001b[0m\u001b[0;34m(\u001b[0m\u001b[0;34m)\u001b[0m\u001b[0;34m)\u001b[0m\u001b[0;34m\u001b[0m\u001b[0m\n\u001b[0m\u001b[1;32m    602\u001b[0m \u001b[0;34m\u001b[0m\u001b[0m\n\u001b[1;32m    603\u001b[0m     \u001b[0;32mdef\u001b[0m \u001b[0mqueryAndConvert\u001b[0m\u001b[0;34m(\u001b[0m\u001b[0mself\u001b[0m\u001b[0;34m)\u001b[0m\u001b[0;34m:\u001b[0m\u001b[0;34m\u001b[0m\u001b[0m\n",
      "\u001b[0;32m/home/joerg/anaconda3/envs/datacron1/lib/python3.6/site-packages/SPARQLWrapper/Wrapper.py\u001b[0m in \u001b[0;36m_query\u001b[0;34m(self)\u001b[0m\n\u001b[1;32m    577\u001b[0m                 \u001b[0;32mraise\u001b[0m \u001b[0mEndPointNotFound\u001b[0m\u001b[0;34m(\u001b[0m\u001b[0me\u001b[0m\u001b[0;34m.\u001b[0m\u001b[0mread\u001b[0m\u001b[0;34m(\u001b[0m\u001b[0;34m)\u001b[0m\u001b[0;34m)\u001b[0m\u001b[0;34m\u001b[0m\u001b[0m\n\u001b[1;32m    578\u001b[0m             \u001b[0;32melif\u001b[0m \u001b[0me\u001b[0m\u001b[0;34m.\u001b[0m\u001b[0mcode\u001b[0m \u001b[0;34m==\u001b[0m \u001b[0;36m500\u001b[0m\u001b[0;34m:\u001b[0m\u001b[0;34m\u001b[0m\u001b[0m\n\u001b[0;32m--> 579\u001b[0;31m                 \u001b[0;32mraise\u001b[0m \u001b[0mEndPointInternalError\u001b[0m\u001b[0;34m(\u001b[0m\u001b[0me\u001b[0m\u001b[0;34m.\u001b[0m\u001b[0mread\u001b[0m\u001b[0;34m(\u001b[0m\u001b[0;34m)\u001b[0m\u001b[0;34m)\u001b[0m\u001b[0;34m\u001b[0m\u001b[0m\n\u001b[0m\u001b[1;32m    580\u001b[0m             \u001b[0;32melse\u001b[0m\u001b[0;34m:\u001b[0m\u001b[0;34m\u001b[0m\u001b[0m\n\u001b[1;32m    581\u001b[0m                 \u001b[0;32mraise\u001b[0m \u001b[0me\u001b[0m\u001b[0;34m\u001b[0m\u001b[0m\n",
      "\u001b[0;31mEndPointInternalError\u001b[0m: EndPointInternalError: endpoint returned code 500 and response. \n\nResponse:\nb'Virtuoso S1T00 Error SR171: Transaction timed out\\n\\nSPARQL query:\\ndefine sql:big-data-const 0 \\n#output-format:application/sparql-results+json\\n\\nPREFIX : <http://www.datacron-project.eu/datAcron#>\\nPREFIX dul: <http://www.ontologydesignpatterns.org/ont/dul/DUL.owl#>\\nPREFIX xsd: <http://www.w3.org/2001/XMLSchema#>\\n\\nSELECT ?vessel ?time ?wkt ?speed \\nWHERE {\\n    ?s1     a              :Node ;\\n           :ofMovingObject ?vessel ;\\n           :hasSpeed       ?speed ;\\n        dul:hasConstituent/:TimeStart ?time ;\\n        dul:hasConstituent/:hasWKT ?wkt .\\n        \\n    FILTER(bif:st_distance( bif:st_geomfromtext (\\'POINT (2.0783333778381348 41.29694366455078)\\'), bif:st_geomfromtext(?wkt)) <= 5 &&\\n    xsd:dateTime(substr(?time,1,19))>xsd:dateTime(\"2016-04-01 04:40:00\") && \\n    xsd:dateTime(substr(?time,1,19))<xsd:dateTime(\"2016-04-01 06:52:00\"))\\n}\\n'"
     ]
    }
   ],
   "source": [
    "\n",
    "qry = \"\"\"\n",
    "PREFIX : <http://www.datacron-project.eu/datAcron#>\n",
    "PREFIX dul: <http://www.ontologydesignpatterns.org/ont/dul/DUL.owl#>\n",
    "PREFIX xsd: <http://www.w3.org/2001/XMLSchema#>\n",
    "\n",
    "SELECT ?vessel ?time ?wkt ?speed \n",
    "WHERE {\n",
    "    ?s1     a              :Node ;\n",
    "           :ofMovingObject ?vessel ;\n",
    "           :hasSpeed       ?speed ;\n",
    "        dul:hasConstituent/:TimeStart ?time ;\n",
    "        dul:hasConstituent/:hasWKT ?wkt .\n",
    "        \n",
    "    FILTER(bif:st_distance( bif:st_geomfromtext ('\"\"\" + rpoint + \"\"\"'), bif:st_geomfromtext(?wkt)) <= 5 &&\n",
    "    xsd:dateTime(substr(?time,1,19))>xsd:dateTime(\"2016-04-01 04:40:00\") && \n",
    "    xsd:dateTime(substr(?time,1,19))<xsd:dateTime(\"2016-04-01 06:52:00\"))\n",
    "}\n",
    "\"\"\"\n",
    "\n",
    "df = ts107.query(qry)\n",
    "df = ts107.clean(df)\n",
    "df.head(20)\n",
    "\n",
    "\n",
    "\n"
   ]
  },
  {
   "cell_type": "markdown",
   "metadata": {},
   "source": [
    "PROBLEM\n",
    "\n",
    " - According to this query, no trajectory intersects with EDDF.... I think this must be a query problem.\n",
    " - on the 107 store, this transaction times out.\n",
    " \n",
    " \n",
    " \n",
    "Lets go on and check if wx conditions are available in the system."
   ]
  },
  {
   "cell_type": "code",
   "execution_count": 35,
   "metadata": {},
   "outputs": [
    {
     "data": {
      "text/html": [
       "<div>\n",
       "<table border=\"1\" class=\"dataframe\">\n",
       "  <thead>\n",
       "    <tr style=\"text-align: right;\">\n",
       "      <th></th>\n",
       "      <th>s</th>\n",
       "      <th>w</th>\n",
       "    </tr>\n",
       "  </thead>\n",
       "  <tbody>\n",
       "  </tbody>\n",
       "</table>\n",
       "</div>"
      ],
      "text/plain": [
       "Empty DataFrame\n",
       "Columns: [s, w]\n",
       "Index: []"
      ]
     },
     "execution_count": 35,
     "metadata": {},
     "output_type": "execute_result"
    }
   ],
   "source": [
    "qry = \"\"\"\n",
    "PREFIX : <http://www.datacron-project.eu/datAcron#>\n",
    "PREFIX dul: <http://www.ontologydesignpatterns.org/ont/dul/DUL.owl#>\n",
    "PREFIX xsd: <http://www.w3.org/2001/XMLSchema#>\n",
    "PREFIX sw: <http://sweet.jpl.nasa.gov>\n",
    "\n",
    "SELECT ?s ?w\n",
    "WHERE {\n",
    "    ?s a             :Node ;\n",
    "       :hasWeatherCondition ?w .\n",
    "    \n",
    "    FILTER regex(str(?s), 'm3', \"i\")\n",
    "}\n",
    "\"\"\"\n",
    "\n",
    "df = ts109.query(qry)\n",
    "df = ts109.clean(df)\n",
    "df.head(5)\n",
    "\n",
    "\n"
   ]
  },
  {
   "cell_type": "markdown",
   "metadata": {
    "collapsed": true
   },
   "source": [
    "LITTLE PROBLEM\n",
    "\n",
    "Only in the 107 data store, I get results."
   ]
  },
  {
   "cell_type": "code",
   "execution_count": 73,
   "metadata": {},
   "outputs": [
    {
     "data": {
      "text/html": [
       "<div>\n",
       "<table border=\"1\" class=\"dataframe\">\n",
       "  <thead>\n",
       "    <tr style=\"text-align: right;\">\n",
       "      <th></th>\n",
       "      <th>s</th>\n",
       "      <th>p</th>\n",
       "    </tr>\n",
       "  </thead>\n",
       "  <tbody>\n",
       "    <tr>\n",
       "      <th>0</th>\n",
       "      <td>traj_AA51136207_20160401082500_m2</td>\n",
       "      <td>affectedBy</td>\n",
       "    </tr>\n",
       "    <tr>\n",
       "      <th>1</th>\n",
       "      <td>traj_AA51134958_20160401101500_m2</td>\n",
       "      <td>affectedBy</td>\n",
       "    </tr>\n",
       "    <tr>\n",
       "      <th>2</th>\n",
       "      <td>traj_AA51143112_20160401090500_m2</td>\n",
       "      <td>affectedBy</td>\n",
       "    </tr>\n",
       "    <tr>\n",
       "      <th>3</th>\n",
       "      <td>traj_AA51142022_20160401064000_m2</td>\n",
       "      <td>affectedBy</td>\n",
       "    </tr>\n",
       "    <tr>\n",
       "      <th>4</th>\n",
       "      <td>traj_AA51144491_20160401080500_m2</td>\n",
       "      <td>affectedBy</td>\n",
       "    </tr>\n",
       "  </tbody>\n",
       "</table>\n",
       "</div>"
      ],
      "text/plain": [
       "                                   s           p\n",
       "0  traj_AA51136207_20160401082500_m2  affectedBy\n",
       "1  traj_AA51134958_20160401101500_m2  affectedBy\n",
       "2  traj_AA51143112_20160401090500_m2  affectedBy\n",
       "3  traj_AA51142022_20160401064000_m2  affectedBy\n",
       "4  traj_AA51144491_20160401080500_m2  affectedBy"
      ]
     },
     "execution_count": 73,
     "metadata": {},
     "output_type": "execute_result"
    }
   ],
   "source": [
    "qry = \"\"\"\n",
    "PREFIX : <http://www.datacron-project.eu/datAcron#>\n",
    "PREFIX dul: <http://www.ontologydesignpatterns.org/ont/dul/DUL.owl#>\n",
    "PREFIX xsd: <http://www.w3.org/2001/XMLSchema#>\n",
    "PREFIX sw: <http://sweet.jpl.nasa.gov>\n",
    "\n",
    "SELECT ?s ?p \n",
    "WHERE {\n",
    "    ?s ?p :LEBLA01M_411\n",
    "}\n",
    "\"\"\"\n",
    "\n",
    "df = ts109.query(qry)\n",
    "df = ts109.clean(df)\n",
    "df.head(5)\n",
    "\n",
    "\n"
   ]
  },
  {
   "cell_type": "code",
   "execution_count": 2,
   "metadata": {},
   "outputs": [
    {
     "data": {
      "text/html": [
       "<div>\n",
       "<table border=\"1\" class=\"dataframe\">\n",
       "  <thead>\n",
       "    <tr style=\"text-align: right;\">\n",
       "      <th></th>\n",
       "      <th>p</th>\n",
       "      <th>o</th>\n",
       "    </tr>\n",
       "  </thead>\n",
       "  <tbody>\n",
       "    <tr>\n",
       "      <th>0</th>\n",
       "      <td>type</td>\n",
       "      <td>ATC_WeatherRegulation</td>\n",
       "    </tr>\n",
       "    <tr>\n",
       "      <th>1</th>\n",
       "      <td>hasRegion</td>\n",
       "      <td>Airspace_LEBL_411</td>\n",
       "    </tr>\n",
       "    <tr>\n",
       "      <th>2</th>\n",
       "      <td>hasTimeInterval</td>\n",
       "      <td>intv_1459490400000_1459515600000</td>\n",
       "    </tr>\n",
       "    <tr>\n",
       "      <th>3</th>\n",
       "      <td>RegulationAiracCycle</td>\n",
       "      <td>411</td>\n",
       "    </tr>\n",
       "    <tr>\n",
       "      <th>4</th>\n",
       "      <td>RegulationDescription</td>\n",
       "      <td>CB + STORM_</td>\n",
       "    </tr>\n",
       "    <tr>\n",
       "      <th>5</th>\n",
       "      <td>hasReferenceLocation</td>\n",
       "      <td>Place_Barcelona_El_Prat_Airport</td>\n",
       "    </tr>\n",
       "  </tbody>\n",
       "</table>\n",
       "</div>"
      ],
      "text/plain": [
       "                       p                                 o\n",
       "0                   type             ATC_WeatherRegulation\n",
       "1              hasRegion                 Airspace_LEBL_411\n",
       "2        hasTimeInterval  intv_1459490400000_1459515600000\n",
       "3   RegulationAiracCycle                               411\n",
       "4  RegulationDescription                       CB + STORM_\n",
       "5   hasReferenceLocation   Place_Barcelona_El_Prat_Airport"
      ]
     },
     "execution_count": 2,
     "metadata": {},
     "output_type": "execute_result"
    }
   ],
   "source": [
    "df = ts109.qry_properties(':LEBLA01M_411', True)\n",
    "\n",
    "df"
   ]
  },
  {
   "cell_type": "code",
   "execution_count": null,
   "metadata": {
    "collapsed": true
   },
   "outputs": [],
   "source": []
  }
 ],
 "metadata": {
  "kernelspec": {
   "display_name": "datacron1",
   "language": "python",
   "name": "python3"
  },
  "language_info": {
   "codemirror_mode": {
    "name": "ipython",
    "version": 3
   },
   "file_extension": ".py",
   "mimetype": "text/x-python",
   "name": "python",
   "nbconvert_exporter": "python",
   "pygments_lexer": "ipython3",
   "version": "3.6.1"
  }
 },
 "nbformat": 4,
 "nbformat_minor": 2
}
