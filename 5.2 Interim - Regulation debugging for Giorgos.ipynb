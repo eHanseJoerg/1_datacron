{
 "cells": [
  {
   "cell_type": "markdown",
   "metadata": {},
   "source": [
    "## Purpose of this document\n",
    "\n",
    "The purpose of this notebook is to discuss possible bugs in the linkage between regulations and airblocks. It shows why I think there might still be missing links in the database. The basic interlinking reuirements have been documented in the datAcron Interlinking Report of 31. January, 2017 (UPRC, Giorgos Santipantakis, George Vouros, Christos Doulkeridis), p.12.\n",
    "\n",
    "\n",
    "#### Summary\n",
    "We show that a lot (over 2000 of ~2700 total) regulation events are not linked or not linkable to their respective airspaces in the triple store. Especially the weather regulations that are important for FM01 - FM03 scenarios are vastly reduced from 177 to 18. \n",
    "The possible reason for this is that the regulations file is deliverd by CRIDA, whereas the airspace definition file is delivered as a DDR file, and the airspaces or sectors may have different codes. Fore example, the sector LECBFMP that is mentioned in one of the regulation raw data files can nowhere be found in the airspaces, sectors or airblocks. \n",
    "This has a lot of consequences. If we cannot find the correct linkage, then:\n",
    " - we can conclude that the realization of scenarios FM01 and maybe FM02 is not feasible.\n",
    " - my bachelor's thesis will conclude that it is not possible to learn from the data provided, as the required links cannot be stablished.\n",
    " \n",
    "I hope we can analyze and discuss this situation as soon as possible. \n",
    "\n",
    "\n",
    "#### Table of contents\n",
    "  1. Prior work: the query recommended by Giorgos\n",
    "  2. Analysis of Giorgos' query\n",
    "  3. Comparison to a simpler query\n",
    "  4. Comparison to another query (data transformation)\n",
    "  5. Comparison to the raw data\n",
    "  6. Conclusion\n"
   ]
  },
  {
   "cell_type": "markdown",
   "metadata": {},
   "source": [
    "## 1. Prior Work: the query recommended by Giorgos\n",
    "\n",
    "According to Giorgos' mail of 08th July, the following query should show the graph path between regulations and airblocks. \n",
    "In my mail of 12th of July, I promised Giorgos to check this query thoroughly. Her we go.\n",
    "\n",
    "We will see that Giorgos' query indeed returns some results. But the results are incomplete, and the links of the most important regulations (weather regulations) are completely missing!"
   ]
  },
  {
   "cell_type": "code",
   "execution_count": 1,
   "metadata": {
    "collapsed": true
   },
   "outputs": [],
   "source": [
    "import os.path\n",
    "import numpy as np\n",
    "import matplotlib as mp\n",
    "import matplotlib.pyplot as plt\n",
    "import pandas as pd\n",
    "import json\n",
    "import cesiumpy\n",
    "import random\n",
    "from geomet import wkt\n",
    "from pandas.io.json import json_normalize, read_json\n",
    "from SPARQLWrapper import SPARQLWrapper, JSON, XML, RDF\n",
    "from datetime import datetime\n",
    "from IPython.display import HTML\n",
    "\n",
    "#Set some parameters for nicer visualizations\n",
    "pd.set_option('display.expand_frame_repr', False) #do not wrap the printout of Pandas DataFrames\n",
    "pd.set_option('display.precision', 2)\n",
    "mp.rcParams['figure.figsize'] = (15, 9)\n",
    "mp.pyplot.style.use = False\n",
    "\n",
    "\n",
    "# initialize my connection module which allows to connect oto both datAcron graph databases\n",
    "from datacron_connector import TripleStoreConnector\n",
    "ts107 = TripleStoreConnector(0)\n",
    "ts109 = TripleStoreConnector(1)\n",
    "\n",
    "#some technical comments\n",
    "# PREFIX bif: <java:datAcronTester.unipi.gr.sparql_functions.>   <--- only to be used in 109"
   ]
  },
  {
   "cell_type": "code",
   "execution_count": 3,
   "metadata": {},
   "outputs": [
    {
     "data": {
      "text/html": [
       "<div>\n",
       "<style>\n",
       "    .dataframe thead tr:only-child th {\n",
       "        text-align: right;\n",
       "    }\n",
       "\n",
       "    .dataframe thead th {\n",
       "        text-align: left;\n",
       "    }\n",
       "\n",
       "    .dataframe tbody tr th {\n",
       "        vertical-align: top;\n",
       "    }\n",
       "</style>\n",
       "<table border=\"1\" class=\"dataframe\">\n",
       "  <thead>\n",
       "    <tr style=\"text-align: right;\">\n",
       "      <th></th>\n",
       "      <th>regulation</th>\n",
       "      <th>type</th>\n",
       "      <th>airspace</th>\n",
       "      <th>WKT</th>\n",
       "    </tr>\n",
       "  </thead>\n",
       "  <tbody>\n",
       "    <tr>\n",
       "      <th>count</th>\n",
       "      <td>11938</td>\n",
       "      <td>11938</td>\n",
       "      <td>11938</td>\n",
       "      <td>11938</td>\n",
       "    </tr>\n",
       "    <tr>\n",
       "      <th>unique</th>\n",
       "      <td>696</td>\n",
       "      <td>11</td>\n",
       "      <td>171</td>\n",
       "      <td>1215</td>\n",
       "    </tr>\n",
       "    <tr>\n",
       "      <th>top</th>\n",
       "      <td>LGSTD506_411</td>\n",
       "      <td>ATC_Routing</td>\n",
       "      <td>Airspace_LIRRALL_411</td>\n",
       "      <td>POLYGON ((-5.5 47.25, -4.9975 47.5, -3.5227777...</td>\n",
       "    </tr>\n",
       "    <tr>\n",
       "      <th>freq</th>\n",
       "      <td>424</td>\n",
       "      <td>3380</td>\n",
       "      <td>848</td>\n",
       "      <td>105</td>\n",
       "    </tr>\n",
       "  </tbody>\n",
       "</table>\n",
       "</div>"
      ],
      "text/plain": [
       "          regulation         type              airspace                                                WKT\n",
       "count          11938        11938                 11938                                              11938\n",
       "unique           696           11                   171                                               1215\n",
       "top     LGSTD506_411  ATC_Routing  Airspace_LIRRALL_411  POLYGON ((-5.5 47.25, -4.9975 47.5, -3.5227777...\n",
       "freq             424         3380                   848                                                105"
      ]
     },
     "execution_count": 3,
     "metadata": {},
     "output_type": "execute_result"
    }
   ],
   "source": [
    "qry = \"\"\"\n",
    "PREFIX : <http://www.datacron-project.eu/datAcron#>\n",
    "PREFIX dul: <http://www.ontologydesignpatterns.org/ont/dul/DUL.owl#>\n",
    "PREFIX rdfs: <http://www.w3.org/2000/01/rdf-schema#>\n",
    "PREFIX myfn: <java:datAcronTester.unipi.gr.sparql_functions.>\n",
    "\n",
    "SELECT ?regulation ?type ?airspace (myfn:getGeom(?g) as ?WKT) WHERE {\n",
    "  ?regulation a ?type . \n",
    "  ?type       rdfs:subClassOf :FM_Regulation .\n",
    "  ?regulation dul:hasRegion ?airspace .\n",
    "  ?airspace   dul:hasPart ?sector .\n",
    "  ?sector     dul:hasPart ?block .\n",
    "  ?block      :hasGeometry ?g\n",
    "}\n",
    "\"\"\"\n",
    " #?s rdf:type/rdfs:subClassOf* :SpatiotemporalRegion \n",
    "\n",
    "df = ts109.query(qry)\n",
    "df = ts109.clean(df)\n",
    "df.describe()"
   ]
  },
  {
   "cell_type": "code",
   "execution_count": 4,
   "metadata": {},
   "outputs": [
    {
     "data": {
      "text/html": [
       "<div>\n",
       "<style>\n",
       "    .dataframe thead tr:only-child th {\n",
       "        text-align: right;\n",
       "    }\n",
       "\n",
       "    .dataframe thead th {\n",
       "        text-align: left;\n",
       "    }\n",
       "\n",
       "    .dataframe tbody tr th {\n",
       "        vertical-align: top;\n",
       "    }\n",
       "</style>\n",
       "<table border=\"1\" class=\"dataframe\">\n",
       "  <thead>\n",
       "    <tr style=\"text-align: right;\">\n",
       "      <th></th>\n",
       "      <th>regulation</th>\n",
       "      <th>type</th>\n",
       "      <th>airspace</th>\n",
       "      <th>WKT</th>\n",
       "    </tr>\n",
       "  </thead>\n",
       "  <tbody>\n",
       "    <tr>\n",
       "      <th>0</th>\n",
       "      <td>LFLBA11_411</td>\n",
       "      <td>ATC_AerodromeCapacityRegulation</td>\n",
       "      <td>Airspace_LFLBTMA_411</td>\n",
       "      <td>POLYGON ((5.59916666666667 45.9711111111111, 5...</td>\n",
       "    </tr>\n",
       "    <tr>\n",
       "      <th>1</th>\n",
       "      <td>LFLBA11_411</td>\n",
       "      <td>ATC_AerodromeCapacityRegulation</td>\n",
       "      <td>Airspace_LFLBTMA_411</td>\n",
       "      <td>POLYGON ((5.9175 45.6375, 5.93083333333333 45....</td>\n",
       "    </tr>\n",
       "    <tr>\n",
       "      <th>2</th>\n",
       "      <td>LFLBA11_411</td>\n",
       "      <td>ATC_AerodromeCapacityRegulation</td>\n",
       "      <td>Airspace_LFLBTMA_411</td>\n",
       "      <td>POLYGON ((5.53333333333333 45.6833333333333, 5...</td>\n",
       "    </tr>\n",
       "    <tr>\n",
       "      <th>3</th>\n",
       "      <td>LFLBA11_411</td>\n",
       "      <td>ATC_AerodromeCapacityRegulation</td>\n",
       "      <td>Airspace_LFLBTMA_411</td>\n",
       "      <td>POLYGON ((5.94527777777778 45.9302777777778, 5...</td>\n",
       "    </tr>\n",
       "    <tr>\n",
       "      <th>4</th>\n",
       "      <td>LFLBA11_411</td>\n",
       "      <td>ATC_AerodromeCapacityRegulation</td>\n",
       "      <td>Airspace_LFLBTMA_411</td>\n",
       "      <td>POLYGON ((5.96 45.9519444444444, 6.05916666666...</td>\n",
       "    </tr>\n",
       "  </tbody>\n",
       "</table>\n",
       "</div>"
      ],
      "text/plain": [
       "    regulation                             type              airspace                                                WKT\n",
       "0  LFLBA11_411  ATC_AerodromeCapacityRegulation  Airspace_LFLBTMA_411  POLYGON ((5.59916666666667 45.9711111111111, 5...\n",
       "1  LFLBA11_411  ATC_AerodromeCapacityRegulation  Airspace_LFLBTMA_411  POLYGON ((5.9175 45.6375, 5.93083333333333 45....\n",
       "2  LFLBA11_411  ATC_AerodromeCapacityRegulation  Airspace_LFLBTMA_411  POLYGON ((5.53333333333333 45.6833333333333, 5...\n",
       "3  LFLBA11_411  ATC_AerodromeCapacityRegulation  Airspace_LFLBTMA_411  POLYGON ((5.94527777777778 45.9302777777778, 5...\n",
       "4  LFLBA11_411  ATC_AerodromeCapacityRegulation  Airspace_LFLBTMA_411  POLYGON ((5.96 45.9519444444444, 6.05916666666..."
      ]
     },
     "execution_count": 4,
     "metadata": {},
     "output_type": "execute_result"
    }
   ],
   "source": [
    "df.head(5)"
   ]
  },
  {
   "cell_type": "markdown",
   "metadata": {},
   "source": [
    "\n",
    "\n",
    "\n",
    "## 2. Analysis of the results of Giorgos' query"
   ]
  },
  {
   "cell_type": "markdown",
   "metadata": {},
   "source": [
    "As we can see, this completely unlimited query will return 696 unique regulations for 171 unique airspaces. The extract above shows that the regulations of the complete european airspace are stored in the database, because \"LFLB...\" codes stand for airspaces and airports in France. How many ATC_WeatherRegulations do we have in this result?"
   ]
  },
  {
   "cell_type": "code",
   "execution_count": 7,
   "metadata": {},
   "outputs": [
    {
     "data": {
      "text/html": [
       "<div>\n",
       "<style>\n",
       "    .dataframe thead tr:only-child th {\n",
       "        text-align: right;\n",
       "    }\n",
       "\n",
       "    .dataframe thead th {\n",
       "        text-align: left;\n",
       "    }\n",
       "\n",
       "    .dataframe tbody tr th {\n",
       "        vertical-align: top;\n",
       "    }\n",
       "</style>\n",
       "<table border=\"1\" class=\"dataframe\">\n",
       "  <thead>\n",
       "    <tr style=\"text-align: right;\">\n",
       "      <th></th>\n",
       "      <th>regulation</th>\n",
       "      <th>type</th>\n",
       "      <th>airspace</th>\n",
       "      <th>WKT</th>\n",
       "    </tr>\n",
       "  </thead>\n",
       "  <tbody>\n",
       "    <tr>\n",
       "      <th>count</th>\n",
       "      <td>229</td>\n",
       "      <td>229</td>\n",
       "      <td>229</td>\n",
       "      <td>229</td>\n",
       "    </tr>\n",
       "    <tr>\n",
       "      <th>unique</th>\n",
       "      <td>18</td>\n",
       "      <td>1</td>\n",
       "      <td>10</td>\n",
       "      <td>99</td>\n",
       "    </tr>\n",
       "    <tr>\n",
       "      <th>top</th>\n",
       "      <td>EGSAJ15_411</td>\n",
       "      <td>ATC_WeatherRegulation</td>\n",
       "      <td>Airspace_EGTTSAJ_411</td>\n",
       "      <td>POLYGON ((17.8666666666667 59.3969444444444, 1...</td>\n",
       "    </tr>\n",
       "    <tr>\n",
       "      <th>freq</th>\n",
       "      <td>44</td>\n",
       "      <td>229</td>\n",
       "      <td>88</td>\n",
       "      <td>14</td>\n",
       "    </tr>\n",
       "  </tbody>\n",
       "</table>\n",
       "</div>"
      ],
      "text/plain": [
       "         regulation                   type              airspace                                                WKT\n",
       "count           229                    229                   229                                                229\n",
       "unique           18                      1                    10                                                 99\n",
       "top     EGSAJ15_411  ATC_WeatherRegulation  Airspace_EGTTSAJ_411  POLYGON ((17.8666666666667 59.3969444444444, 1...\n",
       "freq             44                    229                    88                                                 14"
      ]
     },
     "execution_count": 7,
     "metadata": {},
     "output_type": "execute_result"
    }
   ],
   "source": [
    "weather_rows = (df['type'] == 'ATC_WeatherRegulation')   #create a boolean mask and filter for Weather Regulations\n",
    "df_wx = df[weather_rows]                                 #apply boolean mask\n",
    "df_wx.describe()"
   ]
  },
  {
   "cell_type": "code",
   "execution_count": 8,
   "metadata": {},
   "outputs": [
    {
     "data": {
      "text/plain": [
       "array(['ESSAE07_411', 'ESSAE07A_411', 'ESSAA08_411', 'KCHI1K15_411',\n",
       "       'EDGAOS12_411', 'EGSAJ15_411', 'GCINB17_411', 'GCINB18_411',\n",
       "       'ESSAT19A_411', 'LET1E121_411', 'ESSAR21A_411', 'ESSAT22_411',\n",
       "       'LEBP1I23_411', 'ESSAE25_411', 'EGSAJ26_411', 'EGPNE26_411',\n",
       "       'EGTLA26_411', 'EDGPAD27_411'], dtype=object)"
      ]
     },
     "execution_count": 8,
     "metadata": {},
     "output_type": "execute_result"
    }
   ],
   "source": [
    "df_wx['regulation'].unique()"
   ]
  },
  {
   "cell_type": "markdown",
   "metadata": {},
   "source": [
    "We can see that only 18 (!) weather regulations have been discovered by Giorgos query, of which only two (!) are relevant for the spanish airspace. We will now compare this now to a query that ignores airblock linkage and to the raw data.\n"
   ]
  },
  {
   "cell_type": "markdown",
   "metadata": {},
   "source": [
    "\n",
    "\n",
    "\n",
    "## 3. Comparison to a simpler query\n",
    "\n",
    "Will a simpler query that searches only for regulations and not for linked airblocks return different results? If yes, then the linkage to airspaces or airblocks in the triple store is incomplete, buggy or needs further clarification."
   ]
  },
  {
   "cell_type": "code",
   "execution_count": 10,
   "metadata": {},
   "outputs": [
    {
     "data": {
      "text/html": [
       "<div>\n",
       "<style>\n",
       "    .dataframe thead tr:only-child th {\n",
       "        text-align: right;\n",
       "    }\n",
       "\n",
       "    .dataframe thead th {\n",
       "        text-align: left;\n",
       "    }\n",
       "\n",
       "    .dataframe tbody tr th {\n",
       "        vertical-align: top;\n",
       "    }\n",
       "</style>\n",
       "<table border=\"1\" class=\"dataframe\">\n",
       "  <thead>\n",
       "    <tr style=\"text-align: right;\">\n",
       "      <th></th>\n",
       "      <th>regulation</th>\n",
       "      <th>type</th>\n",
       "      <th>airspace</th>\n",
       "    </tr>\n",
       "  </thead>\n",
       "  <tbody>\n",
       "    <tr>\n",
       "      <th>count</th>\n",
       "      <td>2704</td>\n",
       "      <td>2704</td>\n",
       "      <td>2704</td>\n",
       "    </tr>\n",
       "    <tr>\n",
       "      <th>unique</th>\n",
       "      <td>2704</td>\n",
       "      <td>14</td>\n",
       "      <td>590</td>\n",
       "    </tr>\n",
       "    <tr>\n",
       "      <th>top</th>\n",
       "      <td>LFPGA01M_411</td>\n",
       "      <td>ATC_Capacity</td>\n",
       "      <td>Airspace_LTBA_411</td>\n",
       "    </tr>\n",
       "    <tr>\n",
       "      <th>freq</th>\n",
       "      <td>1</td>\n",
       "      <td>641</td>\n",
       "      <td>77</td>\n",
       "    </tr>\n",
       "  </tbody>\n",
       "</table>\n",
       "</div>"
      ],
      "text/plain": [
       "          regulation          type           airspace\n",
       "count           2704          2704               2704\n",
       "unique          2704            14                590\n",
       "top     LFPGA01M_411  ATC_Capacity  Airspace_LTBA_411\n",
       "freq               1           641                 77"
      ]
     },
     "execution_count": 10,
     "metadata": {},
     "output_type": "execute_result"
    }
   ],
   "source": [
    "qry = \"\"\"\n",
    "PREFIX : <http://www.datacron-project.eu/datAcron#>\n",
    "PREFIX dul: <http://www.ontologydesignpatterns.org/ont/dul/DUL.owl#>\n",
    "PREFIX rdfs: <http://www.w3.org/2000/01/rdf-schema#>\n",
    "PREFIX myfn: <java:datAcronTester.unipi.gr.sparql_functions.>\n",
    "\n",
    "SELECT ?regulation ?type ?airspace \n",
    "WHERE {\n",
    "  ?regulation a ?type . \n",
    "  ?type       rdfs:subClassOf :FM_Regulation .\n",
    "  ?regulation dul:hasRegion ?airspace .\n",
    "}\n",
    "\"\"\"\n",
    " #?s rdf:type/rdfs:subClassOf* :SpatiotemporalRegion \n",
    "\n",
    "df = ts109.query(qry)\n",
    "df = ts109.clean(df)\n",
    "df.describe()"
   ]
  },
  {
   "cell_type": "markdown",
   "metadata": {},
   "source": [
    "The simpler query returns 2704 regulations, way more than the 696 unique regulations returned by the first query! This means that with the construction of a \"link\" to the airblocks, we are loosing more than 2000 regulations! How many weather regulations did we loose?"
   ]
  },
  {
   "cell_type": "code",
   "execution_count": 12,
   "metadata": {},
   "outputs": [
    {
     "data": {
      "text/html": [
       "<div>\n",
       "<style>\n",
       "    .dataframe thead tr:only-child th {\n",
       "        text-align: right;\n",
       "    }\n",
       "\n",
       "    .dataframe thead th {\n",
       "        text-align: left;\n",
       "    }\n",
       "\n",
       "    .dataframe tbody tr th {\n",
       "        vertical-align: top;\n",
       "    }\n",
       "</style>\n",
       "<table border=\"1\" class=\"dataframe\">\n",
       "  <thead>\n",
       "    <tr style=\"text-align: right;\">\n",
       "      <th></th>\n",
       "      <th>regulation</th>\n",
       "      <th>type</th>\n",
       "      <th>airspace</th>\n",
       "    </tr>\n",
       "  </thead>\n",
       "  <tbody>\n",
       "    <tr>\n",
       "      <th>count</th>\n",
       "      <td>177</td>\n",
       "      <td>177</td>\n",
       "      <td>177</td>\n",
       "    </tr>\n",
       "    <tr>\n",
       "      <th>unique</th>\n",
       "      <td>177</td>\n",
       "      <td>1</td>\n",
       "      <td>68</td>\n",
       "    </tr>\n",
       "    <tr>\n",
       "      <th>top</th>\n",
       "      <td>GCXOA07_411</td>\n",
       "      <td>ATC_WeatherRegulation</td>\n",
       "      <td>Airspace_LSZH_411</td>\n",
       "    </tr>\n",
       "    <tr>\n",
       "      <th>freq</th>\n",
       "      <td>1</td>\n",
       "      <td>177</td>\n",
       "      <td>22</td>\n",
       "    </tr>\n",
       "  </tbody>\n",
       "</table>\n",
       "</div>"
      ],
      "text/plain": [
       "         regulation                   type           airspace\n",
       "count           177                    177                177\n",
       "unique          177                      1                 68\n",
       "top     GCXOA07_411  ATC_WeatherRegulation  Airspace_LSZH_411\n",
       "freq              1                    177                 22"
      ]
     },
     "execution_count": 12,
     "metadata": {},
     "output_type": "execute_result"
    }
   ],
   "source": [
    "weather_rows = (df['type'] == 'ATC_WeatherRegulation')\n",
    "df_wx = df[weather_rows]\n",
    "df_wx.describe()"
   ]
  },
  {
   "cell_type": "markdown",
   "metadata": {},
   "source": [
    "We get 177 weather regulations, way more than the 18 remaining wx regulations that were available in the linked query above."
   ]
  },
  {
   "cell_type": "markdown",
   "metadata": {},
   "source": [
    "## 4. Comparison with a data transformation query provided by UNIPI"
   ]
  },
  {
   "cell_type": "markdown",
   "metadata": {},
   "source": [
    "The following query lists all weather regulations and links them to the NOAA grib files. It is taken from the document \"data_transformation sparql examples.pdf\" that was provided by the university of Piraeus. How many wx regulations will this query discover?"
   ]
  },
  {
   "cell_type": "code",
   "execution_count": 17,
   "metadata": {},
   "outputs": [
    {
     "data": {
      "text/html": [
       "<div>\n",
       "<style>\n",
       "    .dataframe thead tr:only-child th {\n",
       "        text-align: right;\n",
       "    }\n",
       "\n",
       "    .dataframe thead th {\n",
       "        text-align: left;\n",
       "    }\n",
       "\n",
       "    .dataframe tbody tr th {\n",
       "        vertical-align: top;\n",
       "    }\n",
       "</style>\n",
       "<table border=\"1\" class=\"dataframe\">\n",
       "  <thead>\n",
       "    <tr style=\"text-align: right;\">\n",
       "      <th></th>\n",
       "      <th>r</th>\n",
       "      <th>n</th>\n",
       "    </tr>\n",
       "  </thead>\n",
       "  <tbody>\n",
       "    <tr>\n",
       "      <th>count</th>\n",
       "      <td>177</td>\n",
       "      <td>177</td>\n",
       "    </tr>\n",
       "    <tr>\n",
       "      <th>unique</th>\n",
       "      <td>177</td>\n",
       "      <td>67</td>\n",
       "    </tr>\n",
       "    <tr>\n",
       "      <th>top</th>\n",
       "      <td>GCXOA07_411</td>\n",
       "      <td>ftp://nomads.ncdc.noaa.gov/GFS/Grid4/201604/20...</td>\n",
       "    </tr>\n",
       "    <tr>\n",
       "      <th>freq</th>\n",
       "      <td>1</td>\n",
       "      <td>13</td>\n",
       "    </tr>\n",
       "  </tbody>\n",
       "</table>\n",
       "</div>"
      ],
      "text/plain": [
       "                  r                                                  n\n",
       "count           177                                                177\n",
       "unique          177                                                 67\n",
       "top     GCXOA07_411  ftp://nomads.ncdc.noaa.gov/GFS/Grid4/201604/20...\n",
       "freq              1                                                 13"
      ]
     },
     "execution_count": 17,
     "metadata": {},
     "output_type": "execute_result"
    }
   ],
   "source": [
    "qry = \"\"\"\n",
    "PREFIX : <http://www.datacron-project.eu/datAcron#>\n",
    "PREFIX rdfs: <http://www.w3.org/2000/01/rdf-schema#>\n",
    "PREFIX dul: <http://www.ontologydesignpatterns.org/ont/dul/DUL.owl#>\n",
    "PREFIX myfn: <java:datAcronTester.unipi.gr.sparql_functions.>\n",
    "SELECT ?r (myfn:toNOAAurl(str(?ts)) as ?n) WHERE {\n",
    "?r a :ATC_WeatherRegulation ; dul:hasTimeInterval ?t .\n",
    "?t :TimeStart ?ts .\n",
    "}\n",
    "\"\"\"\n",
    " #?s rdf:type/rdfs:subClassOf* :SpatiotemporalRegion \n",
    "\n",
    "df = ts109.query(qry)\n",
    "df = ts109.clean(df)\n",
    "df.describe()"
   ]
  },
  {
   "cell_type": "markdown",
   "metadata": {},
   "source": [
    "This query finds 177 weather regulations, which is consistent with the number of wx regulations found by our query above."
   ]
  },
  {
   "cell_type": "markdown",
   "metadata": {},
   "source": [
    "## 5. Comparison with the raw data provided by CRIDA"
   ]
  },
  {
   "cell_type": "code",
   "execution_count": 15,
   "metadata": {},
   "outputs": [
    {
     "data": {
      "text/html": [
       "<div>\n",
       "<style>\n",
       "    .dataframe thead tr:only-child th {\n",
       "        text-align: right;\n",
       "    }\n",
       "\n",
       "    .dataframe thead th {\n",
       "        text-align: left;\n",
       "    }\n",
       "\n",
       "    .dataframe tbody tr th {\n",
       "        vertical-align: top;\n",
       "    }\n",
       "</style>\n",
       "<table border=\"1\" class=\"dataframe\">\n",
       "  <thead>\n",
       "    <tr style=\"text-align: right;\">\n",
       "      <th></th>\n",
       "      <th>dateReference</th>\n",
       "      <th>RegulationStart</th>\n",
       "      <th>RegulationId</th>\n",
       "      <th>TrafficVolumeSet</th>\n",
       "      <th>ReferenceLocation</th>\n",
       "      <th>ReferenceLocationType</th>\n",
       "      <th>TrafficVolume</th>\n",
       "      <th>RegulationEnd</th>\n",
       "      <th>RegulationActivity</th>\n",
       "      <th>RegulationCancelTime</th>\n",
       "      <th>RegulationDuration</th>\n",
       "      <th>AiracCycle</th>\n",
       "      <th>RegulationCategory</th>\n",
       "      <th>RegulationReasonCode</th>\n",
       "      <th>RegulationDescription</th>\n",
       "    </tr>\n",
       "  </thead>\n",
       "  <tbody>\n",
       "    <tr>\n",
       "      <th>0</th>\n",
       "      <td>20160401</td>\n",
       "      <td>20160401 00:00:00</td>\n",
       "      <td>AR1ORT01</td>\n",
       "      <td>SCENAR</td>\n",
       "      <td>ORTIS</td>\n",
       "      <td>SP</td>\n",
       "      <td>AR1ORT</td>\n",
       "      <td>20160401 04:00:00</td>\n",
       "      <td>T</td>\n",
       "      <td>NaN</td>\n",
       "      <td>240</td>\n",
       "      <td>411</td>\n",
       "      <td>T</td>\n",
       "      <td>R</td>\n",
       "      <td>NaN</td>\n",
       "    </tr>\n",
       "    <tr>\n",
       "      <th>1</th>\n",
       "      <td>20160401</td>\n",
       "      <td>20160401 00:00:00</td>\n",
       "      <td>AR2RV01</td>\n",
       "      <td>SCENAR</td>\n",
       "      <td>SARAY</td>\n",
       "      <td>SP</td>\n",
       "      <td>AR2RV</td>\n",
       "      <td>20160401 04:00:00</td>\n",
       "      <td>T</td>\n",
       "      <td>NaN</td>\n",
       "      <td>240</td>\n",
       "      <td>411</td>\n",
       "      <td>T</td>\n",
       "      <td>R</td>\n",
       "      <td>NaN</td>\n",
       "    </tr>\n",
       "    <tr>\n",
       "      <th>2</th>\n",
       "      <td>20160401</td>\n",
       "      <td>20160401 00:00:00</td>\n",
       "      <td>BBDX01N</td>\n",
       "      <td>LFBBFMP</td>\n",
       "      <td>LFBBBDX</td>\n",
       "      <td>AS</td>\n",
       "      <td>LFBBDX</td>\n",
       "      <td>20160401 04:00:00</td>\n",
       "      <td>C</td>\n",
       "      <td>20160331 17:44:05</td>\n",
       "      <td>-375</td>\n",
       "      <td>411</td>\n",
       "      <td>T</td>\n",
       "      <td>I</td>\n",
       "      <td>NaN</td>\n",
       "    </tr>\n",
       "  </tbody>\n",
       "</table>\n",
       "</div>"
      ],
      "text/plain": [
       "   dateReference    RegulationStart RegulationId TrafficVolumeSet ReferenceLocation ReferenceLocationType TrafficVolume      RegulationEnd RegulationActivity RegulationCancelTime  RegulationDuration  AiracCycle RegulationCategory RegulationReasonCode RegulationDescription\n",
       "0       20160401  20160401 00:00:00     AR1ORT01           SCENAR             ORTIS                    SP        AR1ORT  20160401 04:00:00                  T                  NaN                 240         411                  T                    R                   NaN\n",
       "1       20160401  20160401 00:00:00      AR2RV01           SCENAR             SARAY                    SP         AR2RV  20160401 04:00:00                  T                  NaN                 240         411                  T                    R                   NaN\n",
       "2       20160401  20160401 00:00:00      BBDX01N          LFBBFMP           LFBBBDX                    AS        LFBBDX  20160401 04:00:00                  C    20160331 17:44:05                -375         411                  T                    I                   NaN"
      ]
     },
     "execution_count": 15,
     "metadata": {},
     "output_type": "execute_result"
    }
   ],
   "source": [
    "df_crida = pd.read_csv('data/CRIDA-Regulations-20160401-20160430.csv', delimiter=';')\n",
    "df_crida.head(3)"
   ]
  },
  {
   "cell_type": "code",
   "execution_count": 16,
   "metadata": {},
   "outputs": [
    {
     "data": {
      "text/html": [
       "<div>\n",
       "<style>\n",
       "    .dataframe thead tr:only-child th {\n",
       "        text-align: right;\n",
       "    }\n",
       "\n",
       "    .dataframe thead th {\n",
       "        text-align: left;\n",
       "    }\n",
       "\n",
       "    .dataframe tbody tr th {\n",
       "        vertical-align: top;\n",
       "    }\n",
       "</style>\n",
       "<table border=\"1\" class=\"dataframe\">\n",
       "  <thead>\n",
       "    <tr style=\"text-align: right;\">\n",
       "      <th></th>\n",
       "      <th>dateReference</th>\n",
       "      <th>RegulationDuration</th>\n",
       "      <th>AiracCycle</th>\n",
       "    </tr>\n",
       "  </thead>\n",
       "  <tbody>\n",
       "    <tr>\n",
       "      <th>count</th>\n",
       "      <td>1.73e+02</td>\n",
       "      <td>173.00</td>\n",
       "      <td>173.00</td>\n",
       "    </tr>\n",
       "    <tr>\n",
       "      <th>mean</th>\n",
       "      <td>2.02e+07</td>\n",
       "      <td>121.84</td>\n",
       "      <td>411.10</td>\n",
       "    </tr>\n",
       "    <tr>\n",
       "      <th>std</th>\n",
       "      <td>8.79e+00</td>\n",
       "      <td>155.87</td>\n",
       "      <td>0.31</td>\n",
       "    </tr>\n",
       "    <tr>\n",
       "      <th>min</th>\n",
       "      <td>2.02e+07</td>\n",
       "      <td>-824.00</td>\n",
       "      <td>411.00</td>\n",
       "    </tr>\n",
       "    <tr>\n",
       "      <th>25%</th>\n",
       "      <td>2.02e+07</td>\n",
       "      <td>70.00</td>\n",
       "      <td>411.00</td>\n",
       "    </tr>\n",
       "    <tr>\n",
       "      <th>50%</th>\n",
       "      <td>2.02e+07</td>\n",
       "      <td>108.00</td>\n",
       "      <td>411.00</td>\n",
       "    </tr>\n",
       "    <tr>\n",
       "      <th>75%</th>\n",
       "      <td>2.02e+07</td>\n",
       "      <td>160.00</td>\n",
       "      <td>411.00</td>\n",
       "    </tr>\n",
       "    <tr>\n",
       "      <th>max</th>\n",
       "      <td>2.02e+07</td>\n",
       "      <td>1040.00</td>\n",
       "      <td>412.00</td>\n",
       "    </tr>\n",
       "  </tbody>\n",
       "</table>\n",
       "</div>"
      ],
      "text/plain": [
       "       dateReference  RegulationDuration  AiracCycle\n",
       "count       1.73e+02              173.00      173.00\n",
       "mean        2.02e+07              121.84      411.10\n",
       "std         8.79e+00              155.87        0.31\n",
       "min         2.02e+07             -824.00      411.00\n",
       "25%         2.02e+07               70.00      411.00\n",
       "50%         2.02e+07              108.00      411.00\n",
       "75%         2.02e+07              160.00      411.00\n",
       "max         2.02e+07             1040.00      412.00"
      ]
     },
     "execution_count": 16,
     "metadata": {},
     "output_type": "execute_result"
    }
   ],
   "source": [
    "weather_rows = (df_crida['RegulationReasonCode'] == 'W')\n",
    "df_wx = df_crida[weather_rows]\n",
    "df_wx.describe()"
   ]
  },
  {
   "cell_type": "markdown",
   "metadata": {},
   "source": [
    "The raw data returns 173 wx regulations, the other four are hidden due to delimiter problems in the csv import. In total, there are as well 177 weather regulations between the 1st of April 2016 and the 30th of April 2016."
   ]
  },
  {
   "cell_type": "markdown",
   "metadata": {},
   "source": [
    "## 6. Conclusion\n",
    "\n",
    "We have seen that a lot (over 2000) regulation events are not linked or not linkable to their respective airspaces. Especially the weather regulations that are important for FM01 - FM03 scenarios are vastly reduced from 177 to 18. \n",
    "\n",
    "The possible reason for this is that the regulations file is deliverd by CRIDA, whereas the airspace definition file is delivered as a DDR file, and the airspaces or sectors may have different codes. Fore example, the sector LECBFMP that is mentioned in one of the regulations can nowhere be found in the airspaces, sectors or airblocks. \n",
    "\n",
    "This has a lot of consequences. If we cannot find the correct linkage, then:\n",
    " - we can conclude that the realization of scenarios FM01 - FM03 is not feasible\n",
    " - my bachelor's thesis will conclude that it is not possible to learn from the data provided, as the required links cannot be stablished.\n",
    " \n",
    "I hope we can analyze and discuss this situation as soon as possible. \n",
    "\n",
    "\n",
    "Brgds\n",
    "Jörg\n",
    "\n",
    "![The datAcron ontology](images/FM01 regulations detection and prediction.png)\n",
    "\n",
    "\n",
    "\n"
   ]
  },
  {
   "cell_type": "code",
   "execution_count": null,
   "metadata": {
    "collapsed": true
   },
   "outputs": [],
   "source": []
  }
 ],
 "metadata": {
  "kernelspec": {
   "display_name": "datacronKernel1",
   "language": "python",
   "name": "python3"
  },
  "language_info": {
   "codemirror_mode": {
    "name": "ipython",
    "version": 3
   },
   "file_extension": ".py",
   "mimetype": "text/x-python",
   "name": "python",
   "nbconvert_exporter": "python",
   "pygments_lexer": "ipython3",
   "version": "3.6.3"
  }
 },
 "nbformat": 4,
 "nbformat_minor": 2
}
